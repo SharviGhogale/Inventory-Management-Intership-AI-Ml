{
  "nbformat": 4,
  "nbformat_minor": 0,
  "metadata": {
    "colab": {
      "name": "Inventory.ipynb",
      "provenance": []
    },
    "kernelspec": {
      "name": "python3",
      "display_name": "Python 3"
    },
    "language_info": {
      "name": "python"
    }
  },
  "cells": [
    {
      "cell_type": "markdown",
      "metadata": {
        "id": "l16lxYWwcGtK"
      },
      "source": [
        "#### record.json = stores the product details / stores database\n",
        "#### sales.json = stores the products that are sold \n",
        "#### name = name of product\n",
        "#### qn = quantity of the product\n",
        "#### pr = price of the product\n",
        "#### mfd = manufaturing date of the product\n",
        "#### exd = expiry date of the product"
      ]
    },
    {
      "cell_type": "code",
      "metadata": {
        "id": "i4lKZkWQapFw"
      },
      "source": [
        " records = {'1001': {'name': 'Choco Cake','pr': 100,'qn': 28,'qmfd':'2020-02-12','qexd':'2020-08-12'},\n",
        "            '1002': {'name': 'Milk Cake','pr': 800,'qn': 100,'qmfd':'2020-02-31','qexd':'2020-08-31'},\n",
        "            '1003': {'name': 'Drink','pr': 85,'qn': 100,'qmfd':'2020-02-10','qexd':'2021-08-10'},\n",
        "            '1004': {'name': 'Candy','pr': 5,'qn': 1000,'qmfd':'2020-01-12','qexd':'2020-08-12'},\n",
        "            '1005': {'name': 'Pen','pr': 20,'qn': 100,'qmfd':'2020-02-22','qexd':'2050-08-22'},\n",
        "            '1006': {'name': 'Phone','pr': 50000,'qn': 10,'qmfd' :'2020-02-12','qexd':'2030-08-12'},\n",
        "            '1007': {'name': 'Mic','pr': 1500,'qn': 10,'qmfd':'2020-02-11','qexd':'2030-08-11'},\n",
        "            '1008': {'name': 'Case','pr': 599,'qn': 50,'qmfd':'2020-02-12','qexd':'2100-08-12'},\n",
        "            '1009': {'name': 'Keyboard','pr': 1999,'qn': 10,'qmfd':'2020-02-15','qexd':'2030-08-15'},\n",
        "            '1010': {'name': 'Oreo','pr': 20,'qn': 200,'qmfd':'2020-02-31','qexd':'2020-08-31'},\n",
        "            '1011': {'name': 'Cadbury','pr': 20,'qn': 100,'qmfd':'2020-01-12','qexd':'2020-08-12'}}"
      ],
      "execution_count": 48,
      "outputs": []
    },
    {
      "cell_type": "code",
      "metadata": {
        "id": "NyKEDYzaaui-"
      },
      "source": [
        "js = json.dumps(records)\n",
        "\n",
        "fd = open(\"record.json\",'w')\n",
        "fd.write(js)\n",
        "fd.close()"
      ],
      "execution_count": 49,
      "outputs": []
    },
    {
      "cell_type": "markdown",
      "metadata": {
        "id": "l4JZoFWHs-Ii"
      },
      "source": [
        "## Taking Data from record.json file"
      ]
    },
    {
      "cell_type": "code",
      "metadata": {
        "id": "bd6KCR5pjoIB"
      },
      "source": [
        "import json\n",
        "\n",
        "fd = open(\"record.json\",'r')\n",
        "r = fd.read()\n",
        "fd.close()\n",
        "\n",
        "records = json.loads(r)"
      ],
      "execution_count": 50,
      "outputs": []
    },
    {
      "cell_type": "code",
      "metadata": {
        "id": "6FD9aNYBxJhd"
      },
      "source": [
        "#records['1001'] = {'name': records[ui_prod]['name'], 'pr': records[ui_prod]['pr'], 'qn': ui_quant,'mfd' : mfd,'exd' : exd }"
      ],
      "execution_count": null,
      "outputs": []
    },
    {
      "cell_type": "markdown",
      "metadata": {
        "id": "Dh_xQxNerwnn"
      },
      "source": [
        "## Original Data "
      ]
    },
    {
      "cell_type": "code",
      "metadata": {
        "colab": {
          "base_uri": "https://localhost:8080/"
        },
        "id": "tiqiqd3vcDkz",
        "outputId": "45bb4724-307c-4e62-97b2-ed9c4573ffce"
      },
      "source": [
        "records\n",
        "\n"
      ],
      "execution_count": 51,
      "outputs": [
        {
          "output_type": "execute_result",
          "data": {
            "text/plain": [
              "{'1001': {'name': 'Choco Cake',\n",
              "  'pr': 100,\n",
              "  'qexd': '2020-08-12',\n",
              "  'qmfd': '2020-02-12',\n",
              "  'qn': 28},\n",
              " '1002': {'name': 'Milk Cake',\n",
              "  'pr': 800,\n",
              "  'qexd': '2020-08-31',\n",
              "  'qmfd': '2020-02-31',\n",
              "  'qn': 100},\n",
              " '1003': {'name': 'Drink',\n",
              "  'pr': 85,\n",
              "  'qexd': '2021-08-10',\n",
              "  'qmfd': '2020-02-10',\n",
              "  'qn': 100},\n",
              " '1004': {'name': 'Candy',\n",
              "  'pr': 5,\n",
              "  'qexd': '2020-08-12',\n",
              "  'qmfd': '2020-01-12',\n",
              "  'qn': 1000},\n",
              " '1005': {'name': 'Pen',\n",
              "  'pr': 20,\n",
              "  'qexd': '2050-08-22',\n",
              "  'qmfd': '2020-02-22',\n",
              "  'qn': 100},\n",
              " '1006': {'name': 'Phone',\n",
              "  'pr': 50000,\n",
              "  'qexd': '2030-08-12',\n",
              "  'qmfd': '2020-02-12',\n",
              "  'qn': 10},\n",
              " '1007': {'name': 'Mic',\n",
              "  'pr': 1500,\n",
              "  'qexd': '2030-08-11',\n",
              "  'qmfd': '2020-02-11',\n",
              "  'qn': 10},\n",
              " '1008': {'name': 'Case',\n",
              "  'pr': 599,\n",
              "  'qexd': '2100-08-12',\n",
              "  'qmfd': '2020-02-12',\n",
              "  'qn': 50},\n",
              " '1009': {'name': 'Keyboard',\n",
              "  'pr': 1999,\n",
              "  'qexd': '2030-08-15',\n",
              "  'qmfd': '2020-02-15',\n",
              "  'qn': 10},\n",
              " '1010': {'name': 'Oreo',\n",
              "  'pr': 20,\n",
              "  'qexd': '2020-08-31',\n",
              "  'qmfd': '2020-02-31',\n",
              "  'qn': 200},\n",
              " '1011': {'name': 'Cadbury',\n",
              "  'pr': 20,\n",
              "  'qexd': '2020-08-12',\n",
              "  'qmfd': '2020-01-12',\n",
              "  'qn': 100}}"
            ]
          },
          "metadata": {},
          "execution_count": 51
        }
      ]
    },
    {
      "cell_type": "code",
      "metadata": {
        "id": "vU9mDOQHi3EP"
      },
      "source": [
        ""
      ],
      "execution_count": 47,
      "outputs": []
    },
    {
      "cell_type": "markdown",
      "metadata": {
        "id": "-2wc5_perIPT"
      },
      "source": [
        "## Billing more than one product at a time and updating their remaining quantities in records"
      ]
    },
    {
      "cell_type": "code",
      "metadata": {
        "colab": {
          "base_uri": "https://localhost:8080/"
        },
        "id": "HTkn5BOjkOJd",
        "outputId": "fb5d1ad4-ad30-4acd-f047-d18b4e60d959"
      },
      "source": [
        "\n",
        "i=int(input(\"Enter 0 to end insertion or 1 to continue insertion : \"))\n",
        "total = 0\n",
        "sale = {}\n",
        "prod = []\n",
        "bill_formation = {}\n",
        "while(i!=0):\n",
        "# takig values from the user for the product that is to be sold\n",
        "  ui_prod  = str(input(\"Enter the product_Id: \"))\n",
        "  ui_quant = int(input(\"Enter the quantity: \"))\n",
        "  prod.append(ui_prod)\n",
        "\n",
        "# Printing data for bill creation\n",
        "#  print(\"Product: \", records[ui_prod]['name'])\n",
        "#  print(\"Price: \", records[ui_prod]['pr'])\n",
        "\n",
        "# Billing amount \n",
        "  total = total + records[ui_prod]['pr'] * ui_quant \n",
        " # print(\"Billing Amount: \", records[ui_prod]['pr'] * ui_quant)\n",
        "\n",
        "# updating the quantity for goods sold\n",
        "  records[ui_prod]['qn'] = records[ui_prod]['qn'] - ui_quant\n",
        "  sale[ui_prod] = {'name': records[ui_prod]['name'], 'pr': records[ui_prod]['pr'], 'qn': ui_quant,'amount': records[ui_prod]['pr'] * ui_quant}\n",
        "  bill_formation[ui_prod] = {'name': records[ui_prod]['name'], 'pr': records[ui_prod]['pr'], 'qn': ui_quant,'amount': records[ui_prod]['pr'] * ui_quant}\n",
        "  i=int(input(\"Enter 0 to end insertion or 1 to continue insertion : \"))\n",
        "\n"
      ],
      "execution_count": 52,
      "outputs": [
        {
          "name": "stdout",
          "output_type": "stream",
          "text": [
            "Enter 0 to end insertion or 1 to continue insertion : 1\n",
            "Enter the product_Id: 1001\n",
            "Enter the quantity: 1\n",
            "Enter 0 to end insertion or 1 to continue insertion : 1\n",
            "Enter the product_Id: 1002\n",
            "Enter the quantity: 1\n",
            "Enter 0 to end insertion or 1 to continue insertion : 1\n",
            "Enter the product_Id: 1010\n",
            "Enter the quantity: 4\n",
            "Enter 0 to end insertion or 1 to continue insertion : 0\n"
          ]
        }
      ]
    },
    {
      "cell_type": "code",
      "metadata": {
        "id": "PAfmeKktcBIC"
      },
      "source": [
        "#needs to be updated = input(\"e\")\n",
        "#records[ui_prod].update('mfd' = '21.01.2020', 'exd' = '21.07.2020')"
      ],
      "execution_count": null,
      "outputs": []
    },
    {
      "cell_type": "markdown",
      "metadata": {
        "id": "bs8gRSaoraLb"
      },
      "source": [
        "##To convert into dictionary "
      ]
    },
    {
      "cell_type": "code",
      "metadata": {
        "id": "TaBrN5bbltqs"
      },
      "source": [
        "js = json.dumps(records)\n",
        "\n",
        "fd = open(\"record.json\",'w')\n",
        "fd.write(js)\n",
        "fd.close()"
      ],
      "execution_count": 53,
      "outputs": []
    },
    {
      "cell_type": "markdown",
      "metadata": {
        "id": "WEYM-7vWrn2M"
      },
      "source": [
        "## Display of Records after selling goods"
      ]
    },
    {
      "cell_type": "code",
      "metadata": {
        "colab": {
          "base_uri": "https://localhost:8080/"
        },
        "id": "Lszu-6OXmPip",
        "outputId": "5daaec8b-9aee-448e-b8af-011359f0e56f"
      },
      "source": [
        "records"
      ],
      "execution_count": 54,
      "outputs": [
        {
          "output_type": "execute_result",
          "data": {
            "text/plain": [
              "{'1001': {'name': 'Choco Cake',\n",
              "  'pr': 100,\n",
              "  'qexd': '2020-08-12',\n",
              "  'qmfd': '2020-02-12',\n",
              "  'qn': 27},\n",
              " '1002': {'name': 'Milk Cake',\n",
              "  'pr': 800,\n",
              "  'qexd': '2020-08-31',\n",
              "  'qmfd': '2020-02-31',\n",
              "  'qn': 99},\n",
              " '1003': {'name': 'Drink',\n",
              "  'pr': 85,\n",
              "  'qexd': '2021-08-10',\n",
              "  'qmfd': '2020-02-10',\n",
              "  'qn': 100},\n",
              " '1004': {'name': 'Candy',\n",
              "  'pr': 5,\n",
              "  'qexd': '2020-08-12',\n",
              "  'qmfd': '2020-01-12',\n",
              "  'qn': 1000},\n",
              " '1005': {'name': 'Pen',\n",
              "  'pr': 20,\n",
              "  'qexd': '2050-08-22',\n",
              "  'qmfd': '2020-02-22',\n",
              "  'qn': 100},\n",
              " '1006': {'name': 'Phone',\n",
              "  'pr': 50000,\n",
              "  'qexd': '2030-08-12',\n",
              "  'qmfd': '2020-02-12',\n",
              "  'qn': 10},\n",
              " '1007': {'name': 'Mic',\n",
              "  'pr': 1500,\n",
              "  'qexd': '2030-08-11',\n",
              "  'qmfd': '2020-02-11',\n",
              "  'qn': 10},\n",
              " '1008': {'name': 'Case',\n",
              "  'pr': 599,\n",
              "  'qexd': '2100-08-12',\n",
              "  'qmfd': '2020-02-12',\n",
              "  'qn': 50},\n",
              " '1009': {'name': 'Keyboard',\n",
              "  'pr': 1999,\n",
              "  'qexd': '2030-08-15',\n",
              "  'qmfd': '2020-02-15',\n",
              "  'qn': 10},\n",
              " '1010': {'name': 'Oreo',\n",
              "  'pr': 20,\n",
              "  'qexd': '2020-08-31',\n",
              "  'qmfd': '2020-02-31',\n",
              "  'qn': 196},\n",
              " '1011': {'name': 'Cadbury',\n",
              "  'pr': 20,\n",
              "  'qexd': '2020-08-12',\n",
              "  'qmfd': '2020-01-12',\n",
              "  'qn': 100}}"
            ]
          },
          "metadata": {},
          "execution_count": 54
        }
      ]
    },
    {
      "cell_type": "code",
      "metadata": {
        "id": "fQhcjhzsfbVw"
      },
      "source": [
        "#def inputvalues :\n",
        " # prod_id = str(input(\"Enter product ID : \"))\n",
        "  #quan = int(input(\"Enter quantity to be bought : \"))\n",
        "  "
      ],
      "execution_count": null,
      "outputs": []
    },
    {
      "cell_type": "markdown",
      "metadata": {
        "id": "o4bT8ZHqsEIJ"
      },
      "source": [
        "## To add new products to the store by taking input from the user"
      ]
    },
    {
      "cell_type": "code",
      "metadata": {
        "id": "TM8glm0aeo_T",
        "colab": {
          "base_uri": "https://localhost:8080/"
        },
        "outputId": "920592a5-e0d3-4632-a88d-9eabedabdcad"
      },
      "source": [
        "no_prod = int(input(\"Enter no of new products to be added in the store : \"))"
      ],
      "execution_count": 62,
      "outputs": [
        {
          "name": "stdout",
          "output_type": "stream",
          "text": [
            "Enter no of new products to be added in the store : 30\n"
          ]
        }
      ]
    },
    {
      "cell_type": "code",
      "metadata": {
        "colab": {
          "base_uri": "https://localhost:8080/"
        },
        "id": "t5A7OA30DqzO",
        "outputId": "888d91ed-d999-4e93-fbe0-6aa4ed17e4a1"
      },
      "source": [
        "# add new product to inventory\n",
        "for i in range(no_prod):\n",
        "  product_id = str(input(\"Enter product ID : \"))\n",
        "  name = str(input(\" Enter product name : \"))\n",
        "  price = int(input(\"Enter the price of the product : \"))\n",
        "  quan = int(input(\"Enter quantity of product : \"))\n",
        "  nmfd = str(input(\" Enter manufacturing date : \"))\n",
        "  nexd = str(input(\" Enter expiry date : \"))\n",
        " # mfd = input(\"Enter manufaturing date : \")\n",
        " # exd = input(\"Enter expiry date : \")\n",
        "  if product_id in records.keys():\n",
        "    records[product_id]['qn'] = records[product_id]['qn'] + quan\n",
        "  else:\n",
        "    records[product_id] = {'name': name, 'pr': price, 'qn': quan,'qmfd':nmfd,'qexd':nexd}\n",
        "\n",
        " "
      ],
      "execution_count": 63,
      "outputs": [
        {
          "name": "stdout",
          "output_type": "stream",
          "text": [
            "Enter product ID : 1012\n",
            " Enter product name : Nivea\n",
            "Enter the price of the product : 50\n",
            "Enter quantity of product : 100\n",
            " Enter manufacturing date : 2019-09-29\n",
            " Enter expiry date : 2020-09-29\n",
            "Enter product ID : 1013\n",
            " Enter product name : Pringles\n",
            "Enter the price of the product : 35\n",
            "Enter quantity of product : 50\n",
            " Enter manufacturing date : 2020-07-17\n",
            " Enter expiry date : 2021-07-17\n",
            "Enter product ID : 1014\n",
            " Enter product name : Reynlods\n",
            "Enter the price of the product : 25\n",
            "Enter quantity of product : 200\n",
            " Enter manufacturing date : 2025-07-12\n",
            " Enter expiry date : 2019-07-12\n",
            "Enter product ID : 1015\n",
            " Enter product name : Baggit\n",
            "Enter the price of the product : 2000\n",
            "Enter quantity of product : 25\n",
            " Enter manufacturing date : 2021-01-01\n",
            " Enter expiry date : 2027-01-01\n",
            "Enter product ID : 1016\n",
            " Enter product name : Camlin\n",
            "Enter the price of the product : 150\n",
            "Enter quantity of product : 200\n",
            " Enter manufacturing date : 2019-03-03\n",
            " Enter expiry date : 2025-03-03\n",
            "Enter product ID : 1017\n",
            " Enter product name : Canvas\n",
            "Enter the price of the product : 60\n",
            "Enter quantity of product : 50\n",
            " Enter manufacturing date : 2020-06-29\n",
            " Enter expiry date : 2027-06-09\n",
            "Enter product ID : 1017\n",
            " Enter product name : Parachut\n",
            "Enter the price of the product : 35\n",
            "Enter quantity of product : 40\n",
            " Enter manufacturing date : 2020-09-09\n",
            " Enter expiry date : 2023-09-09\n",
            "Enter product ID : 1018\n",
            " Enter product name : Baja Almond\n",
            "Enter the price of the product : 50\n",
            "Enter quantity of product : 50\n",
            " Enter manufacturing date : 2019-03-02\n",
            " Enter expiry date : 2021-09-29\n",
            "Enter product ID : 1019\n",
            " Enter product name : Natraj\n",
            "Enter the price of the product : 15\n",
            "Enter quantity of product : 200\n",
            " Enter manufacturing date : 2017-05-05\n",
            " Enter expiry date : 2022-05-05\n",
            "Enter product ID : 1020\n",
            " Enter product name : Lotte Choco pie\n",
            "Enter the price of the product : 50\n",
            "Enter quantity of product : 30\n",
            " Enter manufacturing date : 2020-01-30\n",
            " Enter expiry date : 2022-01-30\n",
            "Enter product ID : 1021\n",
            " Enter product name : Dabur\n",
            "Enter the price of the product : 35\n",
            "Enter quantity of product : 50\n",
            " Enter manufacturing date : 2019-06-06\n",
            " Enter expiry date : 2021-12-12\n",
            "Enter product ID : 1022\n",
            " Enter product name : Honey\n",
            "Enter the price of the product : 50\n",
            "Enter quantity of product : 20\n",
            " Enter manufacturing date : 2020-12-12\n",
            " Enter expiry date : 2022-12-12\n",
            "Enter product ID : 1023\n",
            " Enter product name : Jockey\n",
            "Enter the price of the product : 1200\n",
            "Enter quantity of product : 100\n",
            " Enter manufacturing date : 2020-04021\n",
            " Enter expiry date : 2028-04-21\n",
            "Enter product ID : 1023\n",
            " Enter product name : Water\n",
            "Enter the price of the product : 25\n",
            "Enter quantity of product : 100\n",
            " Enter manufacturing date : 2020-09-09\n",
            " Enter expiry date : 2020-09-30\n",
            "Enter product ID : 1024\n",
            " Enter product name : Spectales\n",
            "Enter the price of the product : 25000\n",
            "Enter quantity of product : 20\n",
            " Enter manufacturing date : 2020-07\n",
            " Enter expiry date : no expiry\n",
            "Enter product ID : 1025\n",
            " Enter product name : Tiffen\n",
            "Enter the price of the product : 200\n",
            "Enter quantity of product : 25\n",
            " Enter manufacturing date : 2019-12-01\n",
            " Enter expiry date : no expiry\n",
            "Enter product ID : 1026\n",
            " Enter product name : watch\n",
            "Enter the price of the product : 3500\n",
            "Enter quantity of product : 5\n",
            " Enter manufacturing date : 2019-12-03\n",
            " Enter expiry date : no expiry\n",
            "Enter product ID : 1027\n",
            " Enter product name : Olive oil\n",
            "Enter the price of the product : 60\n",
            "Enter quantity of product : 25\n",
            " Enter manufacturing date : 2020-07-12\n",
            " Enter expiry date : 2021-05-12\n",
            "Enter product ID : 1028\n",
            " Enter product name : Chick pea\n",
            "Enter the price of the product : 30\n",
            "Enter quantity of product : 100\n",
            " Enter manufacturing date : 2020-11-30\n",
            " Enter expiry date : 2021-2-30\n",
            "Enter product ID : 1029\n",
            " Enter product name : Key chain\n",
            "Enter the price of the product : 40\n",
            "Enter quantity of product : 100\n",
            " Enter manufacturing date : 2020-04-23\n",
            " Enter expiry date : no expiry\n",
            "Enter product ID : 1030\n",
            " Enter product name : Lakme\n",
            "Enter the price of the product : 95\n",
            "Enter quantity of product : 100\n",
            " Enter manufacturing date : 2020-05-23\n",
            " Enter expiry date : 2021-05-23\n",
            "Enter product ID : 1031\n",
            " Enter product name : Lizol\n",
            "Enter the price of the product : 70\n",
            "Enter quantity of product : 50\n",
            " Enter manufacturing date : 2020-03-09\n",
            " Enter expiry date : 2021-03-09\n",
            "Enter product ID : 1032\n",
            " Enter product name : belt\n",
            "Enter the price of the product : 500\n",
            "Enter quantity of product : 100\n",
            " Enter manufacturing date : 2020-09-01\n",
            " Enter expiry date : no expiry\n",
            "Enter product ID : 1033\n",
            " Enter product name : sandels\n",
            "Enter the price of the product : 500\n",
            "Enter quantity of product : 50\n",
            " Enter manufacturing date : 2020-09-01\n",
            " Enter expiry date : no expiry\n",
            "Enter product ID : 1034\n",
            " Enter product name : fan\n",
            "Enter the price of the product : 2500\n",
            "Enter quantity of product : 5\n",
            " Enter manufacturing date : 2020-07-01\n",
            " Enter expiry date : no expiry\n",
            "Enter product ID : 1035\n",
            " Enter product name : pears\n",
            "Enter the price of the product : 30\n",
            "Enter quantity of product : 50\n",
            " Enter manufacturing date : 2020-05-04\n",
            " Enter expiry date : 2021-05-04\n",
            "Enter product ID : 1036\n",
            " Enter product name : cotton\n",
            "Enter the price of the product : 10\n",
            "Enter quantity of product : 100\n",
            " Enter manufacturing date : 2020-01-01\n",
            " Enter expiry date : no expiry\n",
            "Enter product ID : 1037\n",
            " Enter product name : Rosewood\n",
            "Enter the price of the product : 100\n",
            "Enter quantity of product : 50\n",
            " Enter manufacturing date : 2020-03-05\n",
            " Enter expiry date : 2020-12-05\n",
            "Enter product ID : 1038\n",
            " Enter product name : Crocs\n",
            "Enter the price of the product : 1000\n",
            "Enter quantity of product : 10\n",
            " Enter manufacturing date : 2020-04-03\n",
            " Enter expiry date : no expiry\n",
            "Enter product ID : 1039\n",
            " Enter product name : Wipper\n",
            "Enter the price of the product : 1000\n",
            "Enter quantity of product : 20\n",
            " Enter manufacturing date : 2020-04-01\n",
            " Enter expiry date : no expiry\n"
          ]
        }
      ]
    },
    {
      "cell_type": "markdown",
      "metadata": {
        "id": "X76aNuVOsOIg"
      },
      "source": [
        "## New goods added to the record"
      ]
    },
    {
      "cell_type": "code",
      "metadata": {
        "colab": {
          "base_uri": "https://localhost:8080/"
        },
        "id": "O6_XMiazEIuX",
        "outputId": "2e16d4b1-c760-402e-ea10-2aee49cd9200"
      },
      "source": [
        "records"
      ],
      "execution_count": 64,
      "outputs": [
        {
          "output_type": "execute_result",
          "data": {
            "text/plain": [
              "{'1001': {'name': 'Choco Cake',\n",
              "  'pr': 100,\n",
              "  'qexd': '2020-08-12',\n",
              "  'qmfd': '2020-02-12',\n",
              "  'qn': 27},\n",
              " '1002': {'name': 'Milk Cake',\n",
              "  'pr': 800,\n",
              "  'qexd': '2020-08-31',\n",
              "  'qmfd': '2020-02-31',\n",
              "  'qn': 99},\n",
              " '1003': {'name': 'Drink',\n",
              "  'pr': 85,\n",
              "  'qexd': '2021-08-10',\n",
              "  'qmfd': '2020-02-10',\n",
              "  'qn': 100},\n",
              " '1004': {'name': 'Candy',\n",
              "  'pr': 5,\n",
              "  'qexd': '2020-08-12',\n",
              "  'qmfd': '2020-01-12',\n",
              "  'qn': 1000},\n",
              " '1005': {'name': 'Pen',\n",
              "  'pr': 20,\n",
              "  'qexd': '2050-08-22',\n",
              "  'qmfd': '2020-02-22',\n",
              "  'qn': 100},\n",
              " '1006': {'name': 'Phone',\n",
              "  'pr': 50000,\n",
              "  'qexd': '2030-08-12',\n",
              "  'qmfd': '2020-02-12',\n",
              "  'qn': 10},\n",
              " '1007': {'name': 'Mic',\n",
              "  'pr': 1500,\n",
              "  'qexd': '2030-08-11',\n",
              "  'qmfd': '2020-02-11',\n",
              "  'qn': 10},\n",
              " '1008': {'name': 'Case',\n",
              "  'pr': 599,\n",
              "  'qexd': '2100-08-12',\n",
              "  'qmfd': '2020-02-12',\n",
              "  'qn': 50},\n",
              " '1009': {'name': 'Keyboard',\n",
              "  'pr': 1999,\n",
              "  'qexd': '2030-08-15',\n",
              "  'qmfd': '2020-02-15',\n",
              "  'qn': 10},\n",
              " '1010': {'name': 'Oreo',\n",
              "  'pr': 20,\n",
              "  'qexd': '2020-08-31',\n",
              "  'qmfd': '2020-02-31',\n",
              "  'qn': 196},\n",
              " '1011': {'name': 'Cadbury',\n",
              "  'pr': 20,\n",
              "  'qexd': '2020-08-12',\n",
              "  'qmfd': '2020-01-12',\n",
              "  'qn': 100},\n",
              " '1012': {'name': 'Nivea',\n",
              "  'pr': 50,\n",
              "  'qexd': '2020-09-29',\n",
              "  'qmfd': '2019-09-29',\n",
              "  'qn': 100},\n",
              " '1013': {'name': 'Pringles',\n",
              "  'pr': 35,\n",
              "  'qexd': '2021-07-17',\n",
              "  'qmfd': '2020-07-17',\n",
              "  'qn': 50},\n",
              " '1014': {'name': 'Reynlods',\n",
              "  'pr': 25,\n",
              "  'qexd': '2019-07-12',\n",
              "  'qmfd': '2025-07-12',\n",
              "  'qn': 200},\n",
              " '1015': {'name': 'Baggit',\n",
              "  'pr': 2000,\n",
              "  'qexd': '2027-01-01',\n",
              "  'qmfd': '2021-01-01',\n",
              "  'qn': 25},\n",
              " '1016': {'name': 'Camlin',\n",
              "  'pr': 150,\n",
              "  'qexd': '2025-03-03',\n",
              "  'qmfd': '2019-03-03',\n",
              "  'qn': 200},\n",
              " '1017': {'name': 'Canvas',\n",
              "  'pr': 60,\n",
              "  'qexd': '2027-06-09',\n",
              "  'qmfd': '2020-06-29',\n",
              "  'qn': 90},\n",
              " '1018': {'name': 'Baja Almond',\n",
              "  'pr': 50,\n",
              "  'qexd': '2021-09-29',\n",
              "  'qmfd': '2019-03-02',\n",
              "  'qn': 50},\n",
              " '1019': {'name': 'Natraj',\n",
              "  'pr': 15,\n",
              "  'qexd': '2022-05-05',\n",
              "  'qmfd': '2017-05-05',\n",
              "  'qn': 200},\n",
              " '1020': {'name': 'Lotte Choco pie',\n",
              "  'pr': 50,\n",
              "  'qexd': '2022-01-30',\n",
              "  'qmfd': '2020-01-30',\n",
              "  'qn': 30},\n",
              " '1021': {'name': 'Dabur',\n",
              "  'pr': 35,\n",
              "  'qexd': '2021-12-12',\n",
              "  'qmfd': '2019-06-06',\n",
              "  'qn': 50},\n",
              " '1022': {'name': 'Honey',\n",
              "  'pr': 50,\n",
              "  'qexd': '2022-12-12',\n",
              "  'qmfd': '2020-12-12',\n",
              "  'qn': 20},\n",
              " '1023': {'name': 'Jockey',\n",
              "  'pr': 1200,\n",
              "  'qexd': '2028-04-21',\n",
              "  'qmfd': '2020-04021',\n",
              "  'qn': 200},\n",
              " '1024': {'name': 'Spectales',\n",
              "  'pr': 25000,\n",
              "  'qexd': 'no expiry',\n",
              "  'qmfd': '2020-07',\n",
              "  'qn': 20},\n",
              " '1025': {'name': 'Tiffen',\n",
              "  'pr': 200,\n",
              "  'qexd': 'no expiry',\n",
              "  'qmfd': '2019-12-01',\n",
              "  'qn': 25},\n",
              " '1026': {'name': 'watch',\n",
              "  'pr': 3500,\n",
              "  'qexd': 'no expiry',\n",
              "  'qmfd': '2019-12-03',\n",
              "  'qn': 5},\n",
              " '1027': {'name': 'Olive oil',\n",
              "  'pr': 60,\n",
              "  'qexd': '2021-05-12',\n",
              "  'qmfd': '2020-07-12',\n",
              "  'qn': 25},\n",
              " '1028': {'name': 'Chick pea',\n",
              "  'pr': 30,\n",
              "  'qexd': '2021-2-30',\n",
              "  'qmfd': '2020-11-30',\n",
              "  'qn': 100},\n",
              " '1029': {'name': 'Key chain',\n",
              "  'pr': 40,\n",
              "  'qexd': 'no expiry',\n",
              "  'qmfd': '2020-04-23',\n",
              "  'qn': 100},\n",
              " '1030': {'name': 'Lakme',\n",
              "  'pr': 95,\n",
              "  'qexd': '2021-05-23',\n",
              "  'qmfd': '2020-05-23',\n",
              "  'qn': 100},\n",
              " '1031': {'name': 'Lizol',\n",
              "  'pr': 70,\n",
              "  'qexd': '2021-03-09',\n",
              "  'qmfd': '2020-03-09',\n",
              "  'qn': 50},\n",
              " '1032': {'name': 'belt',\n",
              "  'pr': 500,\n",
              "  'qexd': 'no expiry',\n",
              "  'qmfd': '2020-09-01',\n",
              "  'qn': 100},\n",
              " '1033': {'name': 'sandels',\n",
              "  'pr': 500,\n",
              "  'qexd': 'no expiry',\n",
              "  'qmfd': '2020-09-01',\n",
              "  'qn': 50},\n",
              " '1034': {'name': 'fan',\n",
              "  'pr': 2500,\n",
              "  'qexd': 'no expiry',\n",
              "  'qmfd': '2020-07-01',\n",
              "  'qn': 5},\n",
              " '1035': {'name': 'pears',\n",
              "  'pr': 30,\n",
              "  'qexd': '2021-05-04',\n",
              "  'qmfd': '2020-05-04',\n",
              "  'qn': 50},\n",
              " '1036': {'name': 'cotton',\n",
              "  'pr': 10,\n",
              "  'qexd': 'no expiry',\n",
              "  'qmfd': '2020-01-01',\n",
              "  'qn': 100},\n",
              " '1037': {'name': 'Rosewood',\n",
              "  'pr': 100,\n",
              "  'qexd': '2020-12-05',\n",
              "  'qmfd': '2020-03-05',\n",
              "  'qn': 50},\n",
              " '1038': {'name': 'Crocs',\n",
              "  'pr': 1000,\n",
              "  'qexd': 'no expiry',\n",
              "  'qmfd': '2020-04-03',\n",
              "  'qn': 10},\n",
              " '1039': {'name': 'Wipper',\n",
              "  'pr': 1000,\n",
              "  'qexd': 'no expiry',\n",
              "  'qmfd': '2020-04-01',\n",
              "  'qn': 20}}"
            ]
          },
          "metadata": {},
          "execution_count": 64
        }
      ]
    },
    {
      "cell_type": "code",
      "metadata": {
        "id": "ItgH2QvACG4V"
      },
      "source": [
        "del records['1012']"
      ],
      "execution_count": 60,
      "outputs": []
    },
    {
      "cell_type": "markdown",
      "metadata": {
        "id": "XsWDSmdVshPk"
      },
      "source": [
        "## Storing the new added products in record.json file"
      ]
    },
    {
      "cell_type": "code",
      "metadata": {
        "id": "VxdbQFiiEXVs"
      },
      "source": [
        "js = json.dumps(records)\n",
        "\n",
        "fd = open(\"record.json\",'w')\n",
        "fd.write(js)\n",
        "fd.close()"
      ],
      "execution_count": 65,
      "outputs": []
    },
    {
      "cell_type": "code",
      "metadata": {
        "colab": {
          "base_uri": "https://localhost:8080/"
        },
        "id": "oHZlHA7kEb-z",
        "outputId": "30d77f8b-36a2-4963-ed6e-0972a54bd65c"
      },
      "source": [
        "records\n"
      ],
      "execution_count": 66,
      "outputs": [
        {
          "output_type": "execute_result",
          "data": {
            "text/plain": [
              "{'1001': {'name': 'Choco Cake',\n",
              "  'pr': 100,\n",
              "  'qexd': '2020-08-12',\n",
              "  'qmfd': '2020-02-12',\n",
              "  'qn': 27},\n",
              " '1002': {'name': 'Milk Cake',\n",
              "  'pr': 800,\n",
              "  'qexd': '2020-08-31',\n",
              "  'qmfd': '2020-02-31',\n",
              "  'qn': 99},\n",
              " '1003': {'name': 'Drink',\n",
              "  'pr': 85,\n",
              "  'qexd': '2021-08-10',\n",
              "  'qmfd': '2020-02-10',\n",
              "  'qn': 100},\n",
              " '1004': {'name': 'Candy',\n",
              "  'pr': 5,\n",
              "  'qexd': '2020-08-12',\n",
              "  'qmfd': '2020-01-12',\n",
              "  'qn': 1000},\n",
              " '1005': {'name': 'Pen',\n",
              "  'pr': 20,\n",
              "  'qexd': '2050-08-22',\n",
              "  'qmfd': '2020-02-22',\n",
              "  'qn': 100},\n",
              " '1006': {'name': 'Phone',\n",
              "  'pr': 50000,\n",
              "  'qexd': '2030-08-12',\n",
              "  'qmfd': '2020-02-12',\n",
              "  'qn': 10},\n",
              " '1007': {'name': 'Mic',\n",
              "  'pr': 1500,\n",
              "  'qexd': '2030-08-11',\n",
              "  'qmfd': '2020-02-11',\n",
              "  'qn': 10},\n",
              " '1008': {'name': 'Case',\n",
              "  'pr': 599,\n",
              "  'qexd': '2100-08-12',\n",
              "  'qmfd': '2020-02-12',\n",
              "  'qn': 50},\n",
              " '1009': {'name': 'Keyboard',\n",
              "  'pr': 1999,\n",
              "  'qexd': '2030-08-15',\n",
              "  'qmfd': '2020-02-15',\n",
              "  'qn': 10},\n",
              " '1010': {'name': 'Oreo',\n",
              "  'pr': 20,\n",
              "  'qexd': '2020-08-31',\n",
              "  'qmfd': '2020-02-31',\n",
              "  'qn': 196},\n",
              " '1011': {'name': 'Cadbury',\n",
              "  'pr': 20,\n",
              "  'qexd': '2020-08-12',\n",
              "  'qmfd': '2020-01-12',\n",
              "  'qn': 100},\n",
              " '1012': {'name': 'Nivea',\n",
              "  'pr': 50,\n",
              "  'qexd': '2020-09-29',\n",
              "  'qmfd': '2019-09-29',\n",
              "  'qn': 100},\n",
              " '1013': {'name': 'Pringles',\n",
              "  'pr': 35,\n",
              "  'qexd': '2021-07-17',\n",
              "  'qmfd': '2020-07-17',\n",
              "  'qn': 50},\n",
              " '1014': {'name': 'Reynlods',\n",
              "  'pr': 25,\n",
              "  'qexd': '2019-07-12',\n",
              "  'qmfd': '2025-07-12',\n",
              "  'qn': 200},\n",
              " '1015': {'name': 'Baggit',\n",
              "  'pr': 2000,\n",
              "  'qexd': '2027-01-01',\n",
              "  'qmfd': '2021-01-01',\n",
              "  'qn': 25},\n",
              " '1016': {'name': 'Camlin',\n",
              "  'pr': 150,\n",
              "  'qexd': '2025-03-03',\n",
              "  'qmfd': '2019-03-03',\n",
              "  'qn': 200},\n",
              " '1017': {'name': 'Canvas',\n",
              "  'pr': 60,\n",
              "  'qexd': '2027-06-09',\n",
              "  'qmfd': '2020-06-29',\n",
              "  'qn': 90},\n",
              " '1018': {'name': 'Baja Almond',\n",
              "  'pr': 50,\n",
              "  'qexd': '2021-09-29',\n",
              "  'qmfd': '2019-03-02',\n",
              "  'qn': 50},\n",
              " '1019': {'name': 'Natraj',\n",
              "  'pr': 15,\n",
              "  'qexd': '2022-05-05',\n",
              "  'qmfd': '2017-05-05',\n",
              "  'qn': 200},\n",
              " '1020': {'name': 'Lotte Choco pie',\n",
              "  'pr': 50,\n",
              "  'qexd': '2022-01-30',\n",
              "  'qmfd': '2020-01-30',\n",
              "  'qn': 30},\n",
              " '1021': {'name': 'Dabur',\n",
              "  'pr': 35,\n",
              "  'qexd': '2021-12-12',\n",
              "  'qmfd': '2019-06-06',\n",
              "  'qn': 50},\n",
              " '1022': {'name': 'Honey',\n",
              "  'pr': 50,\n",
              "  'qexd': '2022-12-12',\n",
              "  'qmfd': '2020-12-12',\n",
              "  'qn': 20},\n",
              " '1023': {'name': 'Jockey',\n",
              "  'pr': 1200,\n",
              "  'qexd': '2028-04-21',\n",
              "  'qmfd': '2020-04021',\n",
              "  'qn': 200},\n",
              " '1024': {'name': 'Spectales',\n",
              "  'pr': 25000,\n",
              "  'qexd': 'no expiry',\n",
              "  'qmfd': '2020-07',\n",
              "  'qn': 20},\n",
              " '1025': {'name': 'Tiffen',\n",
              "  'pr': 200,\n",
              "  'qexd': 'no expiry',\n",
              "  'qmfd': '2019-12-01',\n",
              "  'qn': 25},\n",
              " '1026': {'name': 'watch',\n",
              "  'pr': 3500,\n",
              "  'qexd': 'no expiry',\n",
              "  'qmfd': '2019-12-03',\n",
              "  'qn': 5},\n",
              " '1027': {'name': 'Olive oil',\n",
              "  'pr': 60,\n",
              "  'qexd': '2021-05-12',\n",
              "  'qmfd': '2020-07-12',\n",
              "  'qn': 25},\n",
              " '1028': {'name': 'Chick pea',\n",
              "  'pr': 30,\n",
              "  'qexd': '2021-2-30',\n",
              "  'qmfd': '2020-11-30',\n",
              "  'qn': 100},\n",
              " '1029': {'name': 'Key chain',\n",
              "  'pr': 40,\n",
              "  'qexd': 'no expiry',\n",
              "  'qmfd': '2020-04-23',\n",
              "  'qn': 100},\n",
              " '1030': {'name': 'Lakme',\n",
              "  'pr': 95,\n",
              "  'qexd': '2021-05-23',\n",
              "  'qmfd': '2020-05-23',\n",
              "  'qn': 100},\n",
              " '1031': {'name': 'Lizol',\n",
              "  'pr': 70,\n",
              "  'qexd': '2021-03-09',\n",
              "  'qmfd': '2020-03-09',\n",
              "  'qn': 50},\n",
              " '1032': {'name': 'belt',\n",
              "  'pr': 500,\n",
              "  'qexd': 'no expiry',\n",
              "  'qmfd': '2020-09-01',\n",
              "  'qn': 100},\n",
              " '1033': {'name': 'sandels',\n",
              "  'pr': 500,\n",
              "  'qexd': 'no expiry',\n",
              "  'qmfd': '2020-09-01',\n",
              "  'qn': 50},\n",
              " '1034': {'name': 'fan',\n",
              "  'pr': 2500,\n",
              "  'qexd': 'no expiry',\n",
              "  'qmfd': '2020-07-01',\n",
              "  'qn': 5},\n",
              " '1035': {'name': 'pears',\n",
              "  'pr': 30,\n",
              "  'qexd': '2021-05-04',\n",
              "  'qmfd': '2020-05-04',\n",
              "  'qn': 50},\n",
              " '1036': {'name': 'cotton',\n",
              "  'pr': 10,\n",
              "  'qexd': 'no expiry',\n",
              "  'qmfd': '2020-01-01',\n",
              "  'qn': 100},\n",
              " '1037': {'name': 'Rosewood',\n",
              "  'pr': 100,\n",
              "  'qexd': '2020-12-05',\n",
              "  'qmfd': '2020-03-05',\n",
              "  'qn': 50},\n",
              " '1038': {'name': 'Crocs',\n",
              "  'pr': 1000,\n",
              "  'qexd': 'no expiry',\n",
              "  'qmfd': '2020-04-03',\n",
              "  'qn': 10},\n",
              " '1039': {'name': 'Wipper',\n",
              "  'pr': 1000,\n",
              "  'qexd': 'no expiry',\n",
              "  'qmfd': '2020-04-01',\n",
              "  'qn': 20}}"
            ]
          },
          "metadata": {},
          "execution_count": 66
        }
      ]
    },
    {
      "cell_type": "code",
      "metadata": {
        "id": "AsFrhi9bKa_x"
      },
      "source": [
        "import json\n",
        "\n",
        "fd = open(\"record.json\",'r')\n",
        "r = fd.read()\n",
        "fd.close()\n",
        "\n"
      ],
      "execution_count": 67,
      "outputs": []
    },
    {
      "cell_type": "code",
      "metadata": {
        "colab": {
          "base_uri": "https://localhost:8080/"
        },
        "id": "un_d6e0JKjJ-",
        "outputId": "365610f8-8608-45d0-dc1e-83b795de8c6f"
      },
      "source": [
        "i=int(input(\"Enter 0 to end insertion or 1 to continue insertion : \"))\n",
        "total = 0\n",
        "sale = {}\n",
        "prod = []\n",
        "bill_formation = {}\n",
        "while(i!=0):\n",
        "# takig values from the user for the product that is to be sold\n",
        "  ui_prod  = str(input(\"Enter the product_Id: \"))\n",
        "  ui_quant = int(input(\"Enter the quantity: \"))\n",
        "  prod.append(ui_prod)\n",
        "  print(\"Product: \", records[ui_prod]['name'])\n",
        "  print(\"Price: \", records[ui_prod]['pr'])\n",
        "\n",
        "# Billing amount \n",
        "  total = total + records[ui_prod]['pr'] * ui_quant \n",
        " \n",
        "\n",
        "# updating the quantity for goods sold\n",
        "  records[ui_prod]['qn'] = records[ui_prod]['qn'] - ui_quant\n",
        "  sale[ui_prod] = {'name': records[ui_prod]['name'], 'pr': records[ui_prod]['pr'], 'qn': ui_quant,'amount': records[ui_prod]['pr'] * ui_quant}\n",
        "  bill_formation[ui_prod] = {'name': records[ui_prod]['name'], 'pr': records[ui_prod]['pr'], 'qn': ui_quant,'amount': records[ui_prod]['pr'] * ui_quant}\n",
        "  i=int(input(\"Enter 0 to end insertion or 1 to continue insertion : \"))"
      ],
      "execution_count": 68,
      "outputs": [
        {
          "name": "stdout",
          "output_type": "stream",
          "text": [
            "Enter 0 to end insertion or 1 to continue insertion : 1\n",
            "Enter the product_Id: 1001\n",
            "Enter the quantity: 1\n",
            "Product:  Choco Cake\n",
            "Price:  100\n",
            "Enter 0 to end insertion or 1 to continue insertion : 1\n",
            "Enter the product_Id: 1030\n",
            "Enter the quantity: 2\n",
            "Product:  Lakme\n",
            "Price:  95\n",
            "Enter 0 to end insertion or 1 to continue insertion : 1\n",
            "Enter the product_Id: 1025\n",
            "Enter the quantity: 3\n",
            "Product:  Tiffen\n",
            "Price:  200\n",
            "Enter 0 to end insertion or 1 to continue insertion : 1\n",
            "Enter the product_Id: 1011\n",
            "Enter the quantity: 3\n",
            "Product:  Cadbury\n",
            "Price:  20\n",
            "Enter 0 to end insertion or 1 to continue insertion : 1\n",
            "Enter the product_Id: 1024\n",
            "Enter the quantity: 1\n",
            "Product:  Spectales\n",
            "Price:  25000\n",
            "Enter 0 to end insertion or 1 to continue insertion : 1\n",
            "Enter the product_Id: 1009\n",
            "Enter the quantity: 1\n",
            "Product:  Keyboard\n",
            "Price:  1999\n",
            "Enter 0 to end insertion or 1 to continue insertion : 1\n",
            "Enter the product_Id: 1035\n",
            "Enter the quantity: 5\n",
            "Product:  pears\n",
            "Price:  30\n",
            "Enter 0 to end insertion or 1 to continue insertion : 0\n"
          ]
        }
      ]
    },
    {
      "cell_type": "code",
      "metadata": {
        "colab": {
          "base_uri": "https://localhost:8080/"
        },
        "id": "ddYn6r75LJ-8",
        "outputId": "347ffb0b-090b-4292-9cac-76a8b333f6a7"
      },
      "source": [
        "print(\"**********************************************************************\")  \n",
        "if (i == 0):\n",
        "  print(\"Billing Amount: \", total)\n",
        "#if (i == 0):\n",
        "#  bill_formation.clear()  \n",
        "print(\"**********************************************************************\")  \n",
        "print(\"Thank You for Shopping !\")"
      ],
      "execution_count": 69,
      "outputs": [
        {
          "output_type": "stream",
          "name": "stdout",
          "text": [
            "**********************************************************************\n",
            "Billing Amount:  28099\n",
            "**********************************************************************\n",
            "Thank You for Shopping !\n"
          ]
        }
      ]
    },
    {
      "cell_type": "code",
      "metadata": {
        "colab": {
          "base_uri": "https://localhost:8080/"
        },
        "id": "IaW6MHI3K1iK",
        "outputId": "73b2f794-7fdf-49fb-d029-f4c7f0b9c290"
      },
      "source": [
        "sale"
      ],
      "execution_count": 70,
      "outputs": [
        {
          "output_type": "execute_result",
          "data": {
            "text/plain": [
              "{'1001': {'amount': 100, 'name': 'Choco Cake', 'pr': 100, 'qn': 1},\n",
              " '1009': {'amount': 1999, 'name': 'Keyboard', 'pr': 1999, 'qn': 1},\n",
              " '1011': {'amount': 60, 'name': 'Cadbury', 'pr': 20, 'qn': 3},\n",
              " '1024': {'amount': 25000, 'name': 'Spectales', 'pr': 25000, 'qn': 1},\n",
              " '1025': {'amount': 600, 'name': 'Tiffen', 'pr': 200, 'qn': 3},\n",
              " '1030': {'amount': 190, 'name': 'Lakme', 'pr': 95, 'qn': 2},\n",
              " '1035': {'amount': 150, 'name': 'pears', 'pr': 30, 'qn': 5}}"
            ]
          },
          "metadata": {},
          "execution_count": 70
        }
      ]
    },
    {
      "cell_type": "code",
      "metadata": {
        "colab": {
          "base_uri": "https://localhost:8080/"
        },
        "id": "q6LLsbF7K4d4",
        "outputId": "107f10a5-4785-4c09-bd85-a2fcf7936793"
      },
      "source": [
        "bill_formation"
      ],
      "execution_count": 71,
      "outputs": [
        {
          "output_type": "execute_result",
          "data": {
            "text/plain": [
              "{'1001': {'amount': 100, 'name': 'Choco Cake', 'pr': 100, 'qn': 1},\n",
              " '1009': {'amount': 1999, 'name': 'Keyboard', 'pr': 1999, 'qn': 1},\n",
              " '1011': {'amount': 60, 'name': 'Cadbury', 'pr': 20, 'qn': 3},\n",
              " '1024': {'amount': 25000, 'name': 'Spectales', 'pr': 25000, 'qn': 1},\n",
              " '1025': {'amount': 600, 'name': 'Tiffen', 'pr': 200, 'qn': 3},\n",
              " '1030': {'amount': 190, 'name': 'Lakme', 'pr': 95, 'qn': 2},\n",
              " '1035': {'amount': 150, 'name': 'pears', 'pr': 30, 'qn': 5}}"
            ]
          },
          "metadata": {},
          "execution_count": 71
        }
      ]
    },
    {
      "cell_type": "code",
      "metadata": {
        "id": "OAa9G3IfK7Iy"
      },
      "source": [
        "import pandas as pd"
      ],
      "execution_count": 72,
      "outputs": []
    },
    {
      "cell_type": "code",
      "metadata": {
        "colab": {
          "base_uri": "https://localhost:8080/"
        },
        "id": "5IDcCWbUK9UO",
        "outputId": "36b3f776-f597-42af-d7ec-8c26cbdb2d9a"
      },
      "source": [
        "pandas_dataframe = pd.DataFrame(sale) \n",
        "print(pandas_dataframe)"
      ],
      "execution_count": 73,
      "outputs": [
        {
          "output_type": "stream",
          "name": "stdout",
          "text": [
            "              1001   1030    1025     1011       1024      1009   1035\n",
            "name    Choco Cake  Lakme  Tiffen  Cadbury  Spectales  Keyboard  pears\n",
            "pr             100     95     200       20      25000      1999     30\n",
            "qn               1      2       3        3          1         1      5\n",
            "amount         100    190     600       60      25000      1999    150\n"
          ]
        }
      ]
    },
    {
      "cell_type": "markdown",
      "metadata": {
        "id": "1n5sheDyLyvy"
      },
      "source": [
        "### Which product was sold the highest"
      ]
    },
    {
      "cell_type": "code",
      "metadata": {
        "colab": {
          "base_uri": "https://localhost:8080/",
          "height": 345
        },
        "id": "Sf22DcG1K_eA",
        "outputId": "8a714646-5f5e-4cb3-91ef-ac67e7dc6293"
      },
      "source": [
        "pandas_dataframe.transpose().plot.bar(x='name',y='qn')"
      ],
      "execution_count": 74,
      "outputs": [
        {
          "output_type": "execute_result",
          "data": {
            "text/plain": [
              "<matplotlib.axes._subplots.AxesSubplot at 0x7fcc043b5ed0>"
            ]
          },
          "metadata": {},
          "execution_count": 74
        },
        {
          "output_type": "display_data",
          "data": {
            "image/png": "[encoded data removed]",
            "text/plain": [
              "<Figure size 432x288 with 1 Axes>"
            ]
          },
          "metadata": {
            "needs_background": "light"
          }
        }
      ]
    },
    {
      "cell_type": "markdown",
      "metadata": {
        "id": "R8-t1Rt5L-Hh"
      },
      "source": [
        "###Which product made the most profit"
      ]
    },
    {
      "cell_type": "code",
      "metadata": {
        "colab": {
          "base_uri": "https://localhost:8080/",
          "height": 345
        },
        "id": "7bsnPMjDLCmx",
        "outputId": "2f1b4810-0f7e-457e-e3fe-19c75a2657b4"
      },
      "source": [
        "pandas_dataframe.transpose().plot.bar(x='name',y='amount')"
      ],
      "execution_count": 75,
      "outputs": [
        {
          "output_type": "execute_result",
          "data": {
            "text/plain": [
              "<matplotlib.axes._subplots.AxesSubplot at 0x7fcc042b58d0>"
            ]
          },
          "metadata": {},
          "execution_count": 75
        },
        {
          "output_type": "display_data",
          "data": {
            "image/png": "[encoded data removed]",
            "text/plain": [
              "<Figure size 432x288 with 1 Axes>"
            ]
          },
          "metadata": {
            "needs_background": "light"
          }
        }
      ]
    },
    {
      "cell_type": "code",
      "metadata": {
        "id": "odI1j70gLEt6"
      },
      "source": [
        "jss = json.dumps(sale)\n",
        "\n",
        "fd = open(\"sales.json\",'w')\n",
        "fd.write(jss)\n",
        "fd.close()"
      ],
      "execution_count": 76,
      "outputs": []
    }
  ]
}