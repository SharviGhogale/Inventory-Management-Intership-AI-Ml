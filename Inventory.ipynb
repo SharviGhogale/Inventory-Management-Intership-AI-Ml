{
  "nbformat": 4,
  "nbformat_minor": 0,
  "metadata": {
    "colab": {
      "name": "Inventory.ipynb",
      "provenance": []
    },
    "kernelspec": {
      "name": "python3",
      "display_name": "Python 3"
    },
    "language_info": {
      "name": "python"
    }
  },
  "cells": [
    {
      "cell_type": "markdown",
      "metadata": {
        "id": "l16lxYWwcGtK"
      },
      "source": [
        "#### record.json = stores the product details / stores database\n",
        "#### sales.json = stores the products that are sold \n",
        "#### name = name of product\n",
        "#### qn = quantity of the product\n",
        "#### pr = price of the product\n",
        "#### qmfd = manufaturing date of the product\n",
        "#### qexd = expiry date of the product"
      ]
    },
    {
      "cell_type": "code",
      "metadata": {
        "id": "i4lKZkWQapFw"
      },
      "source": [
        ""
      ],
      "execution_count": null,
      "outputs": []
    },
    {
      "cell_type": "markdown",
      "metadata": {
        "id": "l4JZoFWHs-Ii"
      },
      "source": [
        "## Taking Data from record.json file"
      ]
    },
    {
      "cell_type": "code",
      "metadata": {
        "id": "xSOhElIZaZwl"
      },
      "source": [
        "import json\n",
        "\n",
        "fd = open(\"record.json\",'r')\n",
        "r = fd.read()\n",
        "fd.close()\n",
        "\n",
        "records = json.loads(r)"
      ],
      "execution_count": 104,
      "outputs": []
    },
    {
      "cell_type": "markdown",
      "metadata": {
        "id": "INKUg-8GbLUf"
      },
      "source": [
        "## Original Data"
      ]
    },
    {
      "cell_type": "code",
      "metadata": {
        "id": "vU9mDOQHi3EP",
        "colab": {
          "base_uri": "https://localhost:8080/"
        },
        "outputId": "eb1e212a-26c8-43c7-f182-764e432af888"
      },
      "source": [
        "records"
      ],
      "execution_count": 107,
      "outputs": [
        {
          "output_type": "execute_result",
          "data": {
            "text/plain": [
              "{'1001': {'name': 'Choco Cake',\n",
              "  'pr': 100,\n",
              "  'qexd': '2020-08-12',\n",
              "  'qmfd': '2020-02-12',\n",
              "  'qn': 27},\n",
              " '1002': {'name': 'Milk Cake',\n",
              "  'pr': 800,\n",
              "  'qexd': '2020-08-31',\n",
              "  'qmfd': '2020-02-31',\n",
              "  'qn': 99},\n",
              " '1003': {'name': 'Drink',\n",
              "  'pr': 85,\n",
              "  'qexd': '2021-08-10',\n",
              "  'qmfd': '2020-02-10',\n",
              "  'qn': 100},\n",
              " '1004': {'name': 'Candy',\n",
              "  'pr': 5,\n",
              "  'qexd': '2020-08-12',\n",
              "  'qmfd': '2020-01-12',\n",
              "  'qn': 1000},\n",
              " '1005': {'name': 'Pen',\n",
              "  'pr': 20,\n",
              "  'qexd': '2050-08-22',\n",
              "  'qmfd': '2020-02-22',\n",
              "  'qn': 100},\n",
              " '1006': {'name': 'Phone',\n",
              "  'pr': 50000,\n",
              "  'qexd': '2030-08-12',\n",
              "  'qmfd': '2020-02-12',\n",
              "  'qn': 10},\n",
              " '1007': {'name': 'Mic',\n",
              "  'pr': 1500,\n",
              "  'qexd': '2030-08-11',\n",
              "  'qmfd': '2020-02-11',\n",
              "  'qn': 10},\n",
              " '1008': {'name': 'Case',\n",
              "  'pr': 599,\n",
              "  'qexd': '2100-08-12',\n",
              "  'qmfd': '2020-02-12',\n",
              "  'qn': 50},\n",
              " '1009': {'name': 'Keyboard',\n",
              "  'pr': 1999,\n",
              "  'qexd': '2030-08-15',\n",
              "  'qmfd': '2020-02-15',\n",
              "  'qn': 10},\n",
              " '1010': {'name': 'Oreo',\n",
              "  'pr': 20,\n",
              "  'qexd': '2020-08-31',\n",
              "  'qmfd': '2020-02-31',\n",
              "  'qn': 196},\n",
              " '1011': {'name': 'Cadbury',\n",
              "  'pr': 20,\n",
              "  'qexd': '2020-08-12',\n",
              "  'qmfd': '2020-01-12',\n",
              "  'qn': 100},\n",
              " '1012': {'name': 'Nivea',\n",
              "  'pr': 50,\n",
              "  'qexd': '2020-09-29',\n",
              "  'qmfd': '2019-09-29',\n",
              "  'qn': 100},\n",
              " '1013': {'name': 'Pringles',\n",
              "  'pr': 35,\n",
              "  'qexd': '2021-07-17',\n",
              "  'qmfd': '2020-07-17',\n",
              "  'qn': 50},\n",
              " '1014': {'name': 'Reynlods',\n",
              "  'pr': 25,\n",
              "  'qexd': '2019-07-12',\n",
              "  'qmfd': '2025-07-12',\n",
              "  'qn': 200},\n",
              " '1015': {'name': 'Baggit',\n",
              "  'pr': 2000,\n",
              "  'qexd': '2027-01-01',\n",
              "  'qmfd': '2021-01-01',\n",
              "  'qn': 25},\n",
              " '1016': {'name': 'Camlin',\n",
              "  'pr': 150,\n",
              "  'qexd': '2025-03-03',\n",
              "  'qmfd': '2019-03-03',\n",
              "  'qn': 200},\n",
              " '1017': {'name': 'Canvas',\n",
              "  'pr': 60,\n",
              "  'qexd': '2027-06-09',\n",
              "  'qmfd': '2020-06-29',\n",
              "  'qn': 90},\n",
              " '1018': {'name': 'Baja Almond',\n",
              "  'pr': 50,\n",
              "  'qexd': '2021-09-29',\n",
              "  'qmfd': '2019-03-02',\n",
              "  'qn': 50},\n",
              " '1019': {'name': 'Natraj',\n",
              "  'pr': 15,\n",
              "  'qexd': '2022-05-05',\n",
              "  'qmfd': '2017-05-05',\n",
              "  'qn': 200},\n",
              " '1020': {'name': 'Lotte Choco pie',\n",
              "  'pr': 50,\n",
              "  'qexd': '2022-01-30',\n",
              "  'qmfd': '2020-01-30',\n",
              "  'qn': 30},\n",
              " '1021': {'name': 'Dabur',\n",
              "  'pr': 35,\n",
              "  'qexd': '2021-12-12',\n",
              "  'qmfd': '2019-06-06',\n",
              "  'qn': 50},\n",
              " '1022': {'name': 'Honey',\n",
              "  'pr': 50,\n",
              "  'qexd': '2022-12-12',\n",
              "  'qmfd': '2020-12-12',\n",
              "  'qn': 20},\n",
              " '1023': {'name': 'Jockey',\n",
              "  'pr': 1200,\n",
              "  'qexd': '2028-04-21',\n",
              "  'qmfd': '2020-04021',\n",
              "  'qn': 200},\n",
              " '1024': {'name': 'Spectales',\n",
              "  'pr': 25000,\n",
              "  'qexd': 'no expiry',\n",
              "  'qmfd': '2020-07',\n",
              "  'qn': 20},\n",
              " '1025': {'name': 'Tiffen',\n",
              "  'pr': 200,\n",
              "  'qexd': 'no expiry',\n",
              "  'qmfd': '2019-12-01',\n",
              "  'qn': 25},\n",
              " '1026': {'name': 'watch',\n",
              "  'pr': 3500,\n",
              "  'qexd': 'no expiry',\n",
              "  'qmfd': '2019-12-03',\n",
              "  'qn': 5},\n",
              " '1027': {'name': 'Olive oil',\n",
              "  'pr': 60,\n",
              "  'qexd': '2021-05-12',\n",
              "  'qmfd': '2020-07-12',\n",
              "  'qn': 25},\n",
              " '1028': {'name': 'Chick pea',\n",
              "  'pr': 30,\n",
              "  'qexd': '2021-2-30',\n",
              "  'qmfd': '2020-11-30',\n",
              "  'qn': 100},\n",
              " '1029': {'name': 'Key chain',\n",
              "  'pr': 40,\n",
              "  'qexd': 'no expiry',\n",
              "  'qmfd': '2020-04-23',\n",
              "  'qn': 100},\n",
              " '1030': {'name': 'Lakme',\n",
              "  'pr': 95,\n",
              "  'qexd': '2021-05-23',\n",
              "  'qmfd': '2020-05-23',\n",
              "  'qn': 100},\n",
              " '1031': {'name': 'Lizol',\n",
              "  'pr': 70,\n",
              "  'qexd': '2021-03-09',\n",
              "  'qmfd': '2020-03-09',\n",
              "  'qn': 50},\n",
              " '1032': {'name': 'belt',\n",
              "  'pr': 500,\n",
              "  'qexd': 'no expiry',\n",
              "  'qmfd': '2020-09-01',\n",
              "  'qn': 100},\n",
              " '1033': {'name': 'sandels',\n",
              "  'pr': 500,\n",
              "  'qexd': 'no expiry',\n",
              "  'qmfd': '2020-09-01',\n",
              "  'qn': 50},\n",
              " '1034': {'name': 'fan',\n",
              "  'pr': 2500,\n",
              "  'qexd': 'no expiry',\n",
              "  'qmfd': '2020-07-01',\n",
              "  'qn': 5},\n",
              " '1035': {'name': 'pears',\n",
              "  'pr': 30,\n",
              "  'qexd': '2021-05-04',\n",
              "  'qmfd': '2020-05-04',\n",
              "  'qn': 50},\n",
              " '1036': {'name': 'cotton',\n",
              "  'pr': 10,\n",
              "  'qexd': 'no expiry',\n",
              "  'qmfd': '2020-01-01',\n",
              "  'qn': 100},\n",
              " '1037': {'name': 'Rosewood',\n",
              "  'pr': 100,\n",
              "  'qexd': '2020-12-05',\n",
              "  'qmfd': '2020-03-05',\n",
              "  'qn': 50},\n",
              " '1038': {'name': 'Crocs',\n",
              "  'pr': 1000,\n",
              "  'qexd': 'no expiry',\n",
              "  'qmfd': '2020-04-03',\n",
              "  'qn': 10},\n",
              " '1039': {'name': 'Wipper',\n",
              "  'pr': 1000,\n",
              "  'qexd': 'no expiry',\n",
              "  'qmfd': '2020-04-01',\n",
              "  'qn': 20}}"
            ]
          },
          "metadata": {},
          "execution_count": 107
        }
      ]
    },
    {
      "cell_type": "markdown",
      "metadata": {
        "id": "-2wc5_perIPT"
      },
      "source": [
        "## Input from user for the goods to be sold\n",
        "## Billing more than one product at a time and updating their remaining quantities in records"
      ]
    },
    {
      "cell_type": "code",
      "metadata": {
        "colab": {
          "base_uri": "https://localhost:8080/"
        },
        "id": "Iupyavtbakby",
        "outputId": "e8b8a3b4-15ac-4bc0-a6c9-e20c9af71b09"
      },
      "source": [
        "i=int(input(\"Enter 0 to end insertion or 1 to continue insertion : \"))\n",
        "total = 0\n",
        "sale = {}\n",
        "bill_formation = {}\n",
        "while(i!=0):\n",
        "# takig values from the user for the product that is to be sold\n",
        "  ui_prod  = str(input(\"Enter the product_Id: \"))\n",
        "  ui_quant = int(input(\"Enter the quantity: \"))\n",
        "  print(\"Product: \", records[ui_prod]['name'])\n",
        "  print(\"Price: \", records[ui_prod]['pr'])\n",
        "  print(\"Amount: \", records[ui_prod]['pr']*ui_quant)\n",
        "\n",
        "\n",
        "# Billing amount \n",
        "  total = total + records[ui_prod]['pr'] * ui_quant \n",
        " \n",
        "\n",
        "# updating the quantity for goods sold\n",
        "  records[ui_prod]['qn'] = records[ui_prod]['qn'] - ui_quant\n",
        "  sale[ui_prod] = {'name': records[ui_prod]['name'], 'pr': records[ui_prod]['pr'], 'qn': ui_quant,'amount': records[ui_prod]['pr'] * ui_quant}\n",
        "  bill_formation[ui_prod] = {'name': records[ui_prod]['name'], 'pr': records[ui_prod]['pr'], 'qn': ui_quant,'amount': records[ui_prod]['pr'] * ui_quant}\n",
        "  i=int(input(\"Enter 0 to end insertion or 1 to continue insertion : \"))"
      ],
      "execution_count": 108,
      "outputs": [
        {
          "name": "stdout",
          "output_type": "stream",
          "text": [
            "Enter 0 to end insertion or 1 to continue insertion : 1\n",
            "Enter the product_Id: 1010\n",
            "Enter the quantity: 15\n",
            "Product:  Oreo\n",
            "Price:  20\n",
            "Amount:  300\n",
            "Enter 0 to end insertion or 1 to continue insertion : 1\n",
            "Enter the product_Id: 1009\n",
            "Enter the quantity: 4\n",
            "Product:  Keyboard\n",
            "Price:  1999\n",
            "Amount:  7996\n",
            "Enter 0 to end insertion or 1 to continue insertion : 1\n",
            "Enter the product_Id: 1035\n",
            "Enter the quantity: 5\n",
            "Product:  pears\n",
            "Price:  30\n",
            "Amount:  150\n",
            "Enter 0 to end insertion or 1 to continue insertion : 1\n",
            "Enter the product_Id: 1001\n",
            "Enter the quantity: 10\n",
            "Product:  Choco Cake\n",
            "Price:  100\n",
            "Amount:  1000\n",
            "Enter 0 to end insertion or 1 to continue insertion : 1\n",
            "Enter the product_Id: 1007\n",
            "Enter the quantity: 3\n",
            "Product:  Mic\n",
            "Price:  1500\n",
            "Amount:  4500\n",
            "Enter 0 to end insertion or 1 to continue insertion : 1\n",
            "Enter the product_Id: 1002\n",
            "Enter the quantity: 4\n",
            "Product:  Milk Cake\n",
            "Price:  800\n",
            "Amount:  3200\n",
            "Enter 0 to end insertion or 1 to continue insertion : 1\n",
            "Enter the product_Id: 1030\n",
            "Enter the quantity: 4\n",
            "Product:  Lakme\n",
            "Price:  95\n",
            "Amount:  380\n",
            "Enter 0 to end insertion or 1 to continue insertion : 1\n",
            "Enter the product_Id: 1018\n",
            "Enter the quantity: 2\n",
            "Product:  Baja Almond\n",
            "Price:  50\n",
            "Amount:  100\n",
            "Enter 0 to end insertion or 1 to continue insertion : 1\n",
            "Enter the product_Id: 1028\n",
            "Enter the quantity: 3\n",
            "Product:  Chick pea\n",
            "Price:  30\n",
            "Amount:  90\n",
            "Enter 0 to end insertion or 1 to continue insertion : 1\n",
            "Enter the product_Id: 1036\n",
            "Enter the quantity: 5\n",
            "Product:  cotton\n",
            "Price:  10\n",
            "Amount:  50\n",
            "Enter 0 to end insertion or 1 to continue insertion : 1\n",
            "Enter the product_Id: 1003\n",
            "Enter the quantity: 4\n",
            "Product:  Drink\n",
            "Price:  85\n",
            "Amount:  340\n",
            "Enter 0 to end insertion or 1 to continue insertion : 1\n",
            "Enter the product_Id: 1026\n",
            "Enter the quantity: 1\n",
            "Product:  watch\n",
            "Price:  3500\n",
            "Amount:  3500\n",
            "Enter 0 to end insertion or 1 to continue insertion : 1\n",
            "Enter the product_Id: 1031\n",
            "Enter the quantity: 10\n",
            "Product:  Lizol\n",
            "Price:  70\n",
            "Amount:  700\n",
            "Enter 0 to end insertion or 1 to continue insertion : 1\n",
            "Enter the product_Id: 1034\n",
            "Enter the quantity: 3\n",
            "Product:  fan\n",
            "Price:  2500\n",
            "Amount:  7500\n",
            "Enter 0 to end insertion or 1 to continue insertion : 1\n",
            "Enter the product_Id: 1038\n",
            "Enter the quantity: 4\n",
            "Product:  Crocs\n",
            "Price:  1000\n",
            "Amount:  4000\n",
            "Enter 0 to end insertion or 1 to continue insertion : 1\n",
            "Enter the product_Id: 1023\n",
            "Enter the quantity: 4\n",
            "Product:  Jockey\n",
            "Price:  1200\n",
            "Amount:  4800\n",
            "Enter 0 to end insertion or 1 to continue insertion : 0\n"
          ]
        }
      ]
    },
    {
      "cell_type": "code",
      "metadata": {
        "colab": {
          "base_uri": "https://localhost:8080/"
        },
        "id": "6MZpJBWLZ2sJ",
        "outputId": "fd1bfdca-0a07-4a29-f52a-49cbb689e6ce"
      },
      "source": [
        "print(\"**********************************************************************\")  \n",
        "if (i == 0):\n",
        "  print(\"Billing Amount: \", total)\n",
        "#if (i == 0):\n",
        "#  bill_formation.clear()  \n",
        "print(\"**********************************************************************\")  \n",
        "print(\"Thank You for Shopping !\")"
      ],
      "execution_count": 109,
      "outputs": [
        {
          "output_type": "stream",
          "name": "stdout",
          "text": [
            "**********************************************************************\n",
            "Billing Amount:  38606\n",
            "**********************************************************************\n",
            "Thank You for Shopping !\n"
          ]
        }
      ]
    },
    {
      "cell_type": "markdown",
      "metadata": {
        "id": "bs8gRSaoraLb"
      },
      "source": [
        "##To convert into dictionary "
      ]
    },
    {
      "cell_type": "code",
      "metadata": {
        "id": "TaBrN5bbltqs"
      },
      "source": [
        "js = json.dumps(records)\n",
        "\n",
        "fd = open(\"record.json\",'w')\n",
        "fd.write(js)\n",
        "fd.close()"
      ],
      "execution_count": 110,
      "outputs": []
    },
    {
      "cell_type": "markdown",
      "metadata": {
        "id": "WEYM-7vWrn2M"
      },
      "source": [
        "## Display of updated Records after selling goods"
      ]
    },
    {
      "cell_type": "code",
      "metadata": {
        "colab": {
          "base_uri": "https://localhost:8080/"
        },
        "id": "Lszu-6OXmPip",
        "outputId": "eb25525c-daf5-4352-9a54-1139e7756979"
      },
      "source": [
        "records"
      ],
      "execution_count": 112,
      "outputs": [
        {
          "output_type": "execute_result",
          "data": {
            "text/plain": [
              "{'1001': {'name': 'Choco Cake',\n",
              "  'pr': 100,\n",
              "  'qexd': '2020-08-12',\n",
              "  'qmfd': '2020-02-12',\n",
              "  'qn': 17},\n",
              " '1002': {'name': 'Milk Cake',\n",
              "  'pr': 800,\n",
              "  'qexd': '2020-08-31',\n",
              "  'qmfd': '2020-02-31',\n",
              "  'qn': 95},\n",
              " '1003': {'name': 'Drink',\n",
              "  'pr': 85,\n",
              "  'qexd': '2021-08-10',\n",
              "  'qmfd': '2020-02-10',\n",
              "  'qn': 96},\n",
              " '1004': {'name': 'Candy',\n",
              "  'pr': 5,\n",
              "  'qexd': '2020-08-12',\n",
              "  'qmfd': '2020-01-12',\n",
              "  'qn': 1000},\n",
              " '1005': {'name': 'Pen',\n",
              "  'pr': 20,\n",
              "  'qexd': '2050-08-22',\n",
              "  'qmfd': '2020-02-22',\n",
              "  'qn': 100},\n",
              " '1006': {'name': 'Phone',\n",
              "  'pr': 50000,\n",
              "  'qexd': '2030-08-12',\n",
              "  'qmfd': '2020-02-12',\n",
              "  'qn': 10},\n",
              " '1007': {'name': 'Mic',\n",
              "  'pr': 1500,\n",
              "  'qexd': '2030-08-11',\n",
              "  'qmfd': '2020-02-11',\n",
              "  'qn': 7},\n",
              " '1008': {'name': 'Case',\n",
              "  'pr': 599,\n",
              "  'qexd': '2100-08-12',\n",
              "  'qmfd': '2020-02-12',\n",
              "  'qn': 50},\n",
              " '1009': {'name': 'Keyboard',\n",
              "  'pr': 1999,\n",
              "  'qexd': '2030-08-15',\n",
              "  'qmfd': '2020-02-15',\n",
              "  'qn': 6},\n",
              " '1010': {'name': 'Oreo',\n",
              "  'pr': 20,\n",
              "  'qexd': '2020-08-31',\n",
              "  'qmfd': '2020-02-31',\n",
              "  'qn': 181},\n",
              " '1011': {'name': 'Cadbury',\n",
              "  'pr': 20,\n",
              "  'qexd': '2020-08-12',\n",
              "  'qmfd': '2020-01-12',\n",
              "  'qn': 100},\n",
              " '1012': {'name': 'Nivea',\n",
              "  'pr': 50,\n",
              "  'qexd': '2020-09-29',\n",
              "  'qmfd': '2019-09-29',\n",
              "  'qn': 100},\n",
              " '1013': {'name': 'Pringles',\n",
              "  'pr': 35,\n",
              "  'qexd': '2021-07-17',\n",
              "  'qmfd': '2020-07-17',\n",
              "  'qn': 50},\n",
              " '1014': {'name': 'Reynlods',\n",
              "  'pr': 25,\n",
              "  'qexd': '2019-07-12',\n",
              "  'qmfd': '2025-07-12',\n",
              "  'qn': 200},\n",
              " '1015': {'name': 'Baggit',\n",
              "  'pr': 2000,\n",
              "  'qexd': '2027-01-01',\n",
              "  'qmfd': '2021-01-01',\n",
              "  'qn': 25},\n",
              " '1016': {'name': 'Camlin',\n",
              "  'pr': 150,\n",
              "  'qexd': '2025-03-03',\n",
              "  'qmfd': '2019-03-03',\n",
              "  'qn': 200},\n",
              " '1017': {'name': 'Canvas',\n",
              "  'pr': 60,\n",
              "  'qexd': '2027-06-09',\n",
              "  'qmfd': '2020-06-29',\n",
              "  'qn': 90},\n",
              " '1018': {'name': 'Baja Almond',\n",
              "  'pr': 50,\n",
              "  'qexd': '2021-09-29',\n",
              "  'qmfd': '2019-03-02',\n",
              "  'qn': 48},\n",
              " '1019': {'name': 'Natraj',\n",
              "  'pr': 15,\n",
              "  'qexd': '2022-05-05',\n",
              "  'qmfd': '2017-05-05',\n",
              "  'qn': 200},\n",
              " '1020': {'name': 'Lotte Choco pie',\n",
              "  'pr': 50,\n",
              "  'qexd': '2022-01-30',\n",
              "  'qmfd': '2020-01-30',\n",
              "  'qn': 30},\n",
              " '1021': {'name': 'Dabur',\n",
              "  'pr': 35,\n",
              "  'qexd': '2021-12-12',\n",
              "  'qmfd': '2019-06-06',\n",
              "  'qn': 50},\n",
              " '1022': {'name': 'Honey',\n",
              "  'pr': 50,\n",
              "  'qexd': '2022-12-12',\n",
              "  'qmfd': '2020-12-12',\n",
              "  'qn': 20},\n",
              " '1023': {'name': 'Jockey',\n",
              "  'pr': 1200,\n",
              "  'qexd': '2028-04-21',\n",
              "  'qmfd': '2020-04021',\n",
              "  'qn': 196},\n",
              " '1024': {'name': 'Spectales',\n",
              "  'pr': 25000,\n",
              "  'qexd': 'no expiry',\n",
              "  'qmfd': '2020-07',\n",
              "  'qn': 20},\n",
              " '1025': {'name': 'Tiffen',\n",
              "  'pr': 200,\n",
              "  'qexd': 'no expiry',\n",
              "  'qmfd': '2019-12-01',\n",
              "  'qn': 25},\n",
              " '1026': {'name': 'watch',\n",
              "  'pr': 3500,\n",
              "  'qexd': 'no expiry',\n",
              "  'qmfd': '2019-12-03',\n",
              "  'qn': 4},\n",
              " '1027': {'name': 'Olive oil',\n",
              "  'pr': 60,\n",
              "  'qexd': '2021-05-12',\n",
              "  'qmfd': '2020-07-12',\n",
              "  'qn': 25},\n",
              " '1028': {'name': 'Chick pea',\n",
              "  'pr': 30,\n",
              "  'qexd': '2021-2-30',\n",
              "  'qmfd': '2020-11-30',\n",
              "  'qn': 97},\n",
              " '1029': {'name': 'Key chain',\n",
              "  'pr': 40,\n",
              "  'qexd': 'no expiry',\n",
              "  'qmfd': '2020-04-23',\n",
              "  'qn': 100},\n",
              " '1030': {'name': 'Lakme',\n",
              "  'pr': 95,\n",
              "  'qexd': '2021-05-23',\n",
              "  'qmfd': '2020-05-23',\n",
              "  'qn': 96},\n",
              " '1031': {'name': 'Lizol',\n",
              "  'pr': 70,\n",
              "  'qexd': '2021-03-09',\n",
              "  'qmfd': '2020-03-09',\n",
              "  'qn': 40},\n",
              " '1032': {'name': 'belt',\n",
              "  'pr': 500,\n",
              "  'qexd': 'no expiry',\n",
              "  'qmfd': '2020-09-01',\n",
              "  'qn': 100},\n",
              " '1033': {'name': 'sandels',\n",
              "  'pr': 500,\n",
              "  'qexd': 'no expiry',\n",
              "  'qmfd': '2020-09-01',\n",
              "  'qn': 50},\n",
              " '1034': {'name': 'fan',\n",
              "  'pr': 2500,\n",
              "  'qexd': 'no expiry',\n",
              "  'qmfd': '2020-07-01',\n",
              "  'qn': 2},\n",
              " '1035': {'name': 'pears',\n",
              "  'pr': 30,\n",
              "  'qexd': '2021-05-04',\n",
              "  'qmfd': '2020-05-04',\n",
              "  'qn': 45},\n",
              " '1036': {'name': 'cotton',\n",
              "  'pr': 10,\n",
              "  'qexd': 'no expiry',\n",
              "  'qmfd': '2020-01-01',\n",
              "  'qn': 95},\n",
              " '1037': {'name': 'Rosewood',\n",
              "  'pr': 100,\n",
              "  'qexd': '2020-12-05',\n",
              "  'qmfd': '2020-03-05',\n",
              "  'qn': 50},\n",
              " '1038': {'name': 'Crocs',\n",
              "  'pr': 1000,\n",
              "  'qexd': 'no expiry',\n",
              "  'qmfd': '2020-04-03',\n",
              "  'qn': 6},\n",
              " '1039': {'name': 'Wipper',\n",
              "  'pr': 1000,\n",
              "  'qexd': 'no expiry',\n",
              "  'qmfd': '2020-04-01',\n",
              "  'qn': 20}}"
            ]
          },
          "metadata": {},
          "execution_count": 112
        }
      ]
    },
    {
      "cell_type": "markdown",
      "metadata": {
        "id": "o4bT8ZHqsEIJ"
      },
      "source": [
        "## To add new products to the store by taking input from the user"
      ]
    },
    {
      "cell_type": "code",
      "metadata": {
        "id": "TM8glm0aeo_T",
        "colab": {
          "base_uri": "https://localhost:8080/"
        },
        "outputId": "960f570e-d362-4171-cd8f-878ea4f8aee8"
      },
      "source": [
        "no_prod = int(input(\"Enter no of new products to be added in the store : \"))"
      ],
      "execution_count": 113,
      "outputs": [
        {
          "name": "stdout",
          "output_type": "stream",
          "text": [
            "Enter no of new products to be added in the store : 2\n"
          ]
        }
      ]
    },
    {
      "cell_type": "code",
      "metadata": {
        "colab": {
          "base_uri": "https://localhost:8080/"
        },
        "id": "t5A7OA30DqzO",
        "outputId": "8d7076a5-db9f-4afe-d4c6-f0a1443c6c80"
      },
      "source": [
        "# add new product to inventory\n",
        "for i in range(no_prod):\n",
        "  product_id = str(input(\"Enter product ID : \"))\n",
        "  name = str(input(\" Enter product name : \"))\n",
        "  price = int(input(\"Enter the price of the product : \"))\n",
        "  quan = int(input(\"Enter quantity of product : \"))\n",
        "  nmfd = str(input(\" Enter manufacturing date : \"))\n",
        "  nexd = str(input(\" Enter expiry date : \"))\n",
        " # mfd = input(\"Enter manufaturing date : \")\n",
        " # exd = input(\"Enter expiry date : \")\n",
        "  if product_id in records.keys():\n",
        "    records[product_id]['qn'] = records[product_id]['qn'] + quan\n",
        "  else:\n",
        "    records[product_id] = {'name': name, 'pr': price, 'qn': quan,'qmfd':nmfd,'qexd':nexd}\n",
        "\n",
        " "
      ],
      "execution_count": 114,
      "outputs": [
        {
          "name": "stdout",
          "output_type": "stream",
          "text": [
            "Enter product ID : 1001\n",
            " Enter product name : Choco Cake\n",
            "Enter the price of the product : 100\n",
            "Enter quantity of product : 50\n",
            " Enter manufacturing date : 2020-02-12\n",
            " Enter expiry date : 2020-08-12\n",
            "Enter product ID : 1040\n",
            " Enter product name : Ponds\n",
            "Enter the price of the product : 50\n",
            "Enter quantity of product : 100\n",
            " Enter manufacturing date : 2020-11-02\n",
            " Enter expiry date : 2021-11-02\n"
          ]
        }
      ]
    },
    {
      "cell_type": "markdown",
      "metadata": {
        "id": "X76aNuVOsOIg"
      },
      "source": [
        "## New goods added to the record"
      ]
    },
    {
      "cell_type": "code",
      "metadata": {
        "colab": {
          "base_uri": "https://localhost:8080/"
        },
        "id": "O6_XMiazEIuX",
        "outputId": "78f2960b-0637-4eb6-c2f9-6832b1c9b2d6"
      },
      "source": [
        "records"
      ],
      "execution_count": 115,
      "outputs": [
        {
          "output_type": "execute_result",
          "data": {
            "text/plain": [
              "{'1001': {'name': 'Choco Cake',\n",
              "  'pr': 100,\n",
              "  'qexd': '2020-08-12',\n",
              "  'qmfd': '2020-02-12',\n",
              "  'qn': 67},\n",
              " '1002': {'name': 'Milk Cake',\n",
              "  'pr': 800,\n",
              "  'qexd': '2020-08-31',\n",
              "  'qmfd': '2020-02-31',\n",
              "  'qn': 95},\n",
              " '1003': {'name': 'Drink',\n",
              "  'pr': 85,\n",
              "  'qexd': '2021-08-10',\n",
              "  'qmfd': '2020-02-10',\n",
              "  'qn': 96},\n",
              " '1004': {'name': 'Candy',\n",
              "  'pr': 5,\n",
              "  'qexd': '2020-08-12',\n",
              "  'qmfd': '2020-01-12',\n",
              "  'qn': 1000},\n",
              " '1005': {'name': 'Pen',\n",
              "  'pr': 20,\n",
              "  'qexd': '2050-08-22',\n",
              "  'qmfd': '2020-02-22',\n",
              "  'qn': 100},\n",
              " '1006': {'name': 'Phone',\n",
              "  'pr': 50000,\n",
              "  'qexd': '2030-08-12',\n",
              "  'qmfd': '2020-02-12',\n",
              "  'qn': 10},\n",
              " '1007': {'name': 'Mic',\n",
              "  'pr': 1500,\n",
              "  'qexd': '2030-08-11',\n",
              "  'qmfd': '2020-02-11',\n",
              "  'qn': 7},\n",
              " '1008': {'name': 'Case',\n",
              "  'pr': 599,\n",
              "  'qexd': '2100-08-12',\n",
              "  'qmfd': '2020-02-12',\n",
              "  'qn': 50},\n",
              " '1009': {'name': 'Keyboard',\n",
              "  'pr': 1999,\n",
              "  'qexd': '2030-08-15',\n",
              "  'qmfd': '2020-02-15',\n",
              "  'qn': 6},\n",
              " '1010': {'name': 'Oreo',\n",
              "  'pr': 20,\n",
              "  'qexd': '2020-08-31',\n",
              "  'qmfd': '2020-02-31',\n",
              "  'qn': 181},\n",
              " '1011': {'name': 'Cadbury',\n",
              "  'pr': 20,\n",
              "  'qexd': '2020-08-12',\n",
              "  'qmfd': '2020-01-12',\n",
              "  'qn': 100},\n",
              " '1012': {'name': 'Nivea',\n",
              "  'pr': 50,\n",
              "  'qexd': '2020-09-29',\n",
              "  'qmfd': '2019-09-29',\n",
              "  'qn': 100},\n",
              " '1013': {'name': 'Pringles',\n",
              "  'pr': 35,\n",
              "  'qexd': '2021-07-17',\n",
              "  'qmfd': '2020-07-17',\n",
              "  'qn': 50},\n",
              " '1014': {'name': 'Reynlods',\n",
              "  'pr': 25,\n",
              "  'qexd': '2019-07-12',\n",
              "  'qmfd': '2025-07-12',\n",
              "  'qn': 200},\n",
              " '1015': {'name': 'Baggit',\n",
              "  'pr': 2000,\n",
              "  'qexd': '2027-01-01',\n",
              "  'qmfd': '2021-01-01',\n",
              "  'qn': 25},\n",
              " '1016': {'name': 'Camlin',\n",
              "  'pr': 150,\n",
              "  'qexd': '2025-03-03',\n",
              "  'qmfd': '2019-03-03',\n",
              "  'qn': 200},\n",
              " '1017': {'name': 'Canvas',\n",
              "  'pr': 60,\n",
              "  'qexd': '2027-06-09',\n",
              "  'qmfd': '2020-06-29',\n",
              "  'qn': 90},\n",
              " '1018': {'name': 'Baja Almond',\n",
              "  'pr': 50,\n",
              "  'qexd': '2021-09-29',\n",
              "  'qmfd': '2019-03-02',\n",
              "  'qn': 48},\n",
              " '1019': {'name': 'Natraj',\n",
              "  'pr': 15,\n",
              "  'qexd': '2022-05-05',\n",
              "  'qmfd': '2017-05-05',\n",
              "  'qn': 200},\n",
              " '1020': {'name': 'Lotte Choco pie',\n",
              "  'pr': 50,\n",
              "  'qexd': '2022-01-30',\n",
              "  'qmfd': '2020-01-30',\n",
              "  'qn': 30},\n",
              " '1021': {'name': 'Dabur',\n",
              "  'pr': 35,\n",
              "  'qexd': '2021-12-12',\n",
              "  'qmfd': '2019-06-06',\n",
              "  'qn': 50},\n",
              " '1022': {'name': 'Honey',\n",
              "  'pr': 50,\n",
              "  'qexd': '2022-12-12',\n",
              "  'qmfd': '2020-12-12',\n",
              "  'qn': 20},\n",
              " '1023': {'name': 'Jockey',\n",
              "  'pr': 1200,\n",
              "  'qexd': '2028-04-21',\n",
              "  'qmfd': '2020-04021',\n",
              "  'qn': 196},\n",
              " '1024': {'name': 'Spectales',\n",
              "  'pr': 25000,\n",
              "  'qexd': 'no expiry',\n",
              "  'qmfd': '2020-07',\n",
              "  'qn': 20},\n",
              " '1025': {'name': 'Tiffen',\n",
              "  'pr': 200,\n",
              "  'qexd': 'no expiry',\n",
              "  'qmfd': '2019-12-01',\n",
              "  'qn': 25},\n",
              " '1026': {'name': 'watch',\n",
              "  'pr': 3500,\n",
              "  'qexd': 'no expiry',\n",
              "  'qmfd': '2019-12-03',\n",
              "  'qn': 4},\n",
              " '1027': {'name': 'Olive oil',\n",
              "  'pr': 60,\n",
              "  'qexd': '2021-05-12',\n",
              "  'qmfd': '2020-07-12',\n",
              "  'qn': 25},\n",
              " '1028': {'name': 'Chick pea',\n",
              "  'pr': 30,\n",
              "  'qexd': '2021-2-30',\n",
              "  'qmfd': '2020-11-30',\n",
              "  'qn': 97},\n",
              " '1029': {'name': 'Key chain',\n",
              "  'pr': 40,\n",
              "  'qexd': 'no expiry',\n",
              "  'qmfd': '2020-04-23',\n",
              "  'qn': 100},\n",
              " '1030': {'name': 'Lakme',\n",
              "  'pr': 95,\n",
              "  'qexd': '2021-05-23',\n",
              "  'qmfd': '2020-05-23',\n",
              "  'qn': 96},\n",
              " '1031': {'name': 'Lizol',\n",
              "  'pr': 70,\n",
              "  'qexd': '2021-03-09',\n",
              "  'qmfd': '2020-03-09',\n",
              "  'qn': 40},\n",
              " '1032': {'name': 'belt',\n",
              "  'pr': 500,\n",
              "  'qexd': 'no expiry',\n",
              "  'qmfd': '2020-09-01',\n",
              "  'qn': 100},\n",
              " '1033': {'name': 'sandels',\n",
              "  'pr': 500,\n",
              "  'qexd': 'no expiry',\n",
              "  'qmfd': '2020-09-01',\n",
              "  'qn': 50},\n",
              " '1034': {'name': 'fan',\n",
              "  'pr': 2500,\n",
              "  'qexd': 'no expiry',\n",
              "  'qmfd': '2020-07-01',\n",
              "  'qn': 2},\n",
              " '1035': {'name': 'pears',\n",
              "  'pr': 30,\n",
              "  'qexd': '2021-05-04',\n",
              "  'qmfd': '2020-05-04',\n",
              "  'qn': 45},\n",
              " '1036': {'name': 'cotton',\n",
              "  'pr': 10,\n",
              "  'qexd': 'no expiry',\n",
              "  'qmfd': '2020-01-01',\n",
              "  'qn': 95},\n",
              " '1037': {'name': 'Rosewood',\n",
              "  'pr': 100,\n",
              "  'qexd': '2020-12-05',\n",
              "  'qmfd': '2020-03-05',\n",
              "  'qn': 50},\n",
              " '1038': {'name': 'Crocs',\n",
              "  'pr': 1000,\n",
              "  'qexd': 'no expiry',\n",
              "  'qmfd': '2020-04-03',\n",
              "  'qn': 6},\n",
              " '1039': {'name': 'Wipper',\n",
              "  'pr': 1000,\n",
              "  'qexd': 'no expiry',\n",
              "  'qmfd': '2020-04-01',\n",
              "  'qn': 20},\n",
              " '1040': {'name': 'Ponds',\n",
              "  'pr': 50,\n",
              "  'qexd': '2021-11-02',\n",
              "  'qmfd': '2020-11-02',\n",
              "  'qn': 100}}"
            ]
          },
          "metadata": {},
          "execution_count": 115
        }
      ]
    },
    {
      "cell_type": "markdown",
      "metadata": {
        "id": "XsWDSmdVshPk"
      },
      "source": [
        "## Storing the new added products in record.json file"
      ]
    },
    {
      "cell_type": "code",
      "metadata": {
        "id": "VxdbQFiiEXVs"
      },
      "source": [
        "js = json.dumps(records)\n",
        "\n",
        "fd = open(\"record.json\",'w')\n",
        "fd.write(js)\n",
        "fd.close()"
      ],
      "execution_count": 116,
      "outputs": []
    },
    {
      "cell_type": "code",
      "metadata": {
        "colab": {
          "base_uri": "https://localhost:8080/"
        },
        "id": "oHZlHA7kEb-z",
        "outputId": "22bd1c5a-4162-47f8-e4b1-04aab866b1fd"
      },
      "source": [
        "records\n"
      ],
      "execution_count": 117,
      "outputs": [
        {
          "output_type": "execute_result",
          "data": {
            "text/plain": [
              "{'1001': {'name': 'Choco Cake',\n",
              "  'pr': 100,\n",
              "  'qexd': '2020-08-12',\n",
              "  'qmfd': '2020-02-12',\n",
              "  'qn': 67},\n",
              " '1002': {'name': 'Milk Cake',\n",
              "  'pr': 800,\n",
              "  'qexd': '2020-08-31',\n",
              "  'qmfd': '2020-02-31',\n",
              "  'qn': 95},\n",
              " '1003': {'name': 'Drink',\n",
              "  'pr': 85,\n",
              "  'qexd': '2021-08-10',\n",
              "  'qmfd': '2020-02-10',\n",
              "  'qn': 96},\n",
              " '1004': {'name': 'Candy',\n",
              "  'pr': 5,\n",
              "  'qexd': '2020-08-12',\n",
              "  'qmfd': '2020-01-12',\n",
              "  'qn': 1000},\n",
              " '1005': {'name': 'Pen',\n",
              "  'pr': 20,\n",
              "  'qexd': '2050-08-22',\n",
              "  'qmfd': '2020-02-22',\n",
              "  'qn': 100},\n",
              " '1006': {'name': 'Phone',\n",
              "  'pr': 50000,\n",
              "  'qexd': '2030-08-12',\n",
              "  'qmfd': '2020-02-12',\n",
              "  'qn': 10},\n",
              " '1007': {'name': 'Mic',\n",
              "  'pr': 1500,\n",
              "  'qexd': '2030-08-11',\n",
              "  'qmfd': '2020-02-11',\n",
              "  'qn': 7},\n",
              " '1008': {'name': 'Case',\n",
              "  'pr': 599,\n",
              "  'qexd': '2100-08-12',\n",
              "  'qmfd': '2020-02-12',\n",
              "  'qn': 50},\n",
              " '1009': {'name': 'Keyboard',\n",
              "  'pr': 1999,\n",
              "  'qexd': '2030-08-15',\n",
              "  'qmfd': '2020-02-15',\n",
              "  'qn': 6},\n",
              " '1010': {'name': 'Oreo',\n",
              "  'pr': 20,\n",
              "  'qexd': '2020-08-31',\n",
              "  'qmfd': '2020-02-31',\n",
              "  'qn': 181},\n",
              " '1011': {'name': 'Cadbury',\n",
              "  'pr': 20,\n",
              "  'qexd': '2020-08-12',\n",
              "  'qmfd': '2020-01-12',\n",
              "  'qn': 100},\n",
              " '1012': {'name': 'Nivea',\n",
              "  'pr': 50,\n",
              "  'qexd': '2020-09-29',\n",
              "  'qmfd': '2019-09-29',\n",
              "  'qn': 100},\n",
              " '1013': {'name': 'Pringles',\n",
              "  'pr': 35,\n",
              "  'qexd': '2021-07-17',\n",
              "  'qmfd': '2020-07-17',\n",
              "  'qn': 50},\n",
              " '1014': {'name': 'Reynlods',\n",
              "  'pr': 25,\n",
              "  'qexd': '2019-07-12',\n",
              "  'qmfd': '2025-07-12',\n",
              "  'qn': 200},\n",
              " '1015': {'name': 'Baggit',\n",
              "  'pr': 2000,\n",
              "  'qexd': '2027-01-01',\n",
              "  'qmfd': '2021-01-01',\n",
              "  'qn': 25},\n",
              " '1016': {'name': 'Camlin',\n",
              "  'pr': 150,\n",
              "  'qexd': '2025-03-03',\n",
              "  'qmfd': '2019-03-03',\n",
              "  'qn': 200},\n",
              " '1017': {'name': 'Canvas',\n",
              "  'pr': 60,\n",
              "  'qexd': '2027-06-09',\n",
              "  'qmfd': '2020-06-29',\n",
              "  'qn': 90},\n",
              " '1018': {'name': 'Baja Almond',\n",
              "  'pr': 50,\n",
              "  'qexd': '2021-09-29',\n",
              "  'qmfd': '2019-03-02',\n",
              "  'qn': 48},\n",
              " '1019': {'name': 'Natraj',\n",
              "  'pr': 15,\n",
              "  'qexd': '2022-05-05',\n",
              "  'qmfd': '2017-05-05',\n",
              "  'qn': 200},\n",
              " '1020': {'name': 'Lotte Choco pie',\n",
              "  'pr': 50,\n",
              "  'qexd': '2022-01-30',\n",
              "  'qmfd': '2020-01-30',\n",
              "  'qn': 30},\n",
              " '1021': {'name': 'Dabur',\n",
              "  'pr': 35,\n",
              "  'qexd': '2021-12-12',\n",
              "  'qmfd': '2019-06-06',\n",
              "  'qn': 50},\n",
              " '1022': {'name': 'Honey',\n",
              "  'pr': 50,\n",
              "  'qexd': '2022-12-12',\n",
              "  'qmfd': '2020-12-12',\n",
              "  'qn': 20},\n",
              " '1023': {'name': 'Jockey',\n",
              "  'pr': 1200,\n",
              "  'qexd': '2028-04-21',\n",
              "  'qmfd': '2020-04021',\n",
              "  'qn': 196},\n",
              " '1024': {'name': 'Spectales',\n",
              "  'pr': 25000,\n",
              "  'qexd': 'no expiry',\n",
              "  'qmfd': '2020-07',\n",
              "  'qn': 20},\n",
              " '1025': {'name': 'Tiffen',\n",
              "  'pr': 200,\n",
              "  'qexd': 'no expiry',\n",
              "  'qmfd': '2019-12-01',\n",
              "  'qn': 25},\n",
              " '1026': {'name': 'watch',\n",
              "  'pr': 3500,\n",
              "  'qexd': 'no expiry',\n",
              "  'qmfd': '2019-12-03',\n",
              "  'qn': 4},\n",
              " '1027': {'name': 'Olive oil',\n",
              "  'pr': 60,\n",
              "  'qexd': '2021-05-12',\n",
              "  'qmfd': '2020-07-12',\n",
              "  'qn': 25},\n",
              " '1028': {'name': 'Chick pea',\n",
              "  'pr': 30,\n",
              "  'qexd': '2021-2-30',\n",
              "  'qmfd': '2020-11-30',\n",
              "  'qn': 97},\n",
              " '1029': {'name': 'Key chain',\n",
              "  'pr': 40,\n",
              "  'qexd': 'no expiry',\n",
              "  'qmfd': '2020-04-23',\n",
              "  'qn': 100},\n",
              " '1030': {'name': 'Lakme',\n",
              "  'pr': 95,\n",
              "  'qexd': '2021-05-23',\n",
              "  'qmfd': '2020-05-23',\n",
              "  'qn': 96},\n",
              " '1031': {'name': 'Lizol',\n",
              "  'pr': 70,\n",
              "  'qexd': '2021-03-09',\n",
              "  'qmfd': '2020-03-09',\n",
              "  'qn': 40},\n",
              " '1032': {'name': 'belt',\n",
              "  'pr': 500,\n",
              "  'qexd': 'no expiry',\n",
              "  'qmfd': '2020-09-01',\n",
              "  'qn': 100},\n",
              " '1033': {'name': 'sandels',\n",
              "  'pr': 500,\n",
              "  'qexd': 'no expiry',\n",
              "  'qmfd': '2020-09-01',\n",
              "  'qn': 50},\n",
              " '1034': {'name': 'fan',\n",
              "  'pr': 2500,\n",
              "  'qexd': 'no expiry',\n",
              "  'qmfd': '2020-07-01',\n",
              "  'qn': 2},\n",
              " '1035': {'name': 'pears',\n",
              "  'pr': 30,\n",
              "  'qexd': '2021-05-04',\n",
              "  'qmfd': '2020-05-04',\n",
              "  'qn': 45},\n",
              " '1036': {'name': 'cotton',\n",
              "  'pr': 10,\n",
              "  'qexd': 'no expiry',\n",
              "  'qmfd': '2020-01-01',\n",
              "  'qn': 95},\n",
              " '1037': {'name': 'Rosewood',\n",
              "  'pr': 100,\n",
              "  'qexd': '2020-12-05',\n",
              "  'qmfd': '2020-03-05',\n",
              "  'qn': 50},\n",
              " '1038': {'name': 'Crocs',\n",
              "  'pr': 1000,\n",
              "  'qexd': 'no expiry',\n",
              "  'qmfd': '2020-04-03',\n",
              "  'qn': 6},\n",
              " '1039': {'name': 'Wipper',\n",
              "  'pr': 1000,\n",
              "  'qexd': 'no expiry',\n",
              "  'qmfd': '2020-04-01',\n",
              "  'qn': 20},\n",
              " '1040': {'name': 'Ponds',\n",
              "  'pr': 50,\n",
              "  'qexd': '2021-11-02',\n",
              "  'qmfd': '2020-11-02',\n",
              "  'qn': 100}}"
            ]
          },
          "metadata": {},
          "execution_count": 117
        }
      ]
    },
    {
      "cell_type": "code",
      "metadata": {
        "id": "AsFrhi9bKa_x"
      },
      "source": [
        "import json\n",
        "\n",
        "fd = open(\"record.json\",'r')\n",
        "r = fd.read()\n",
        "fd.close()\n",
        "\n"
      ],
      "execution_count": 118,
      "outputs": []
    },
    {
      "cell_type": "markdown",
      "metadata": {
        "id": "IVxw8ZENaAnx"
      },
      "source": [
        "### Sold products"
      ]
    },
    {
      "cell_type": "code",
      "metadata": {
        "colab": {
          "base_uri": "https://localhost:8080/"
        },
        "id": "IaW6MHI3K1iK",
        "outputId": "640a14e8-2d61-4867-b1e3-386812b3b000"
      },
      "source": [
        "sale"
      ],
      "execution_count": 119,
      "outputs": [
        {
          "output_type": "execute_result",
          "data": {
            "text/plain": [
              "{'1001': {'amount': 1000, 'name': 'Choco Cake', 'pr': 100, 'qn': 10},\n",
              " '1002': {'amount': 3200, 'name': 'Milk Cake', 'pr': 800, 'qn': 4},\n",
              " '1003': {'amount': 340, 'name': 'Drink', 'pr': 85, 'qn': 4},\n",
              " '1007': {'amount': 4500, 'name': 'Mic', 'pr': 1500, 'qn': 3},\n",
              " '1009': {'amount': 7996, 'name': 'Keyboard', 'pr': 1999, 'qn': 4},\n",
              " '1010': {'amount': 300, 'name': 'Oreo', 'pr': 20, 'qn': 15},\n",
              " '1018': {'amount': 100, 'name': 'Baja Almond', 'pr': 50, 'qn': 2},\n",
              " '1023': {'amount': 4800, 'name': 'Jockey', 'pr': 1200, 'qn': 4},\n",
              " '1026': {'amount': 3500, 'name': 'watch', 'pr': 3500, 'qn': 1},\n",
              " '1028': {'amount': 90, 'name': 'Chick pea', 'pr': 30, 'qn': 3},\n",
              " '1030': {'amount': 380, 'name': 'Lakme', 'pr': 95, 'qn': 4},\n",
              " '1031': {'amount': 700, 'name': 'Lizol', 'pr': 70, 'qn': 10},\n",
              " '1034': {'amount': 7500, 'name': 'fan', 'pr': 2500, 'qn': 3},\n",
              " '1035': {'amount': 150, 'name': 'pears', 'pr': 30, 'qn': 5},\n",
              " '1036': {'amount': 50, 'name': 'cotton', 'pr': 10, 'qn': 5},\n",
              " '1038': {'amount': 4000, 'name': 'Crocs', 'pr': 1000, 'qn': 4}}"
            ]
          },
          "metadata": {},
          "execution_count": 119
        }
      ]
    },
    {
      "cell_type": "code",
      "metadata": {
        "colab": {
          "base_uri": "https://localhost:8080/"
        },
        "id": "q6LLsbF7K4d4",
        "outputId": "18df6acb-2fa5-4acd-976a-f60500be98e5"
      },
      "source": [
        "bill_formation"
      ],
      "execution_count": 120,
      "outputs": [
        {
          "output_type": "execute_result",
          "data": {
            "text/plain": [
              "{'1001': {'amount': 1000, 'name': 'Choco Cake', 'pr': 100, 'qn': 10},\n",
              " '1002': {'amount': 3200, 'name': 'Milk Cake', 'pr': 800, 'qn': 4},\n",
              " '1003': {'amount': 340, 'name': 'Drink', 'pr': 85, 'qn': 4},\n",
              " '1007': {'amount': 4500, 'name': 'Mic', 'pr': 1500, 'qn': 3},\n",
              " '1009': {'amount': 7996, 'name': 'Keyboard', 'pr': 1999, 'qn': 4},\n",
              " '1010': {'amount': 300, 'name': 'Oreo', 'pr': 20, 'qn': 15},\n",
              " '1018': {'amount': 100, 'name': 'Baja Almond', 'pr': 50, 'qn': 2},\n",
              " '1023': {'amount': 4800, 'name': 'Jockey', 'pr': 1200, 'qn': 4},\n",
              " '1026': {'amount': 3500, 'name': 'watch', 'pr': 3500, 'qn': 1},\n",
              " '1028': {'amount': 90, 'name': 'Chick pea', 'pr': 30, 'qn': 3},\n",
              " '1030': {'amount': 380, 'name': 'Lakme', 'pr': 95, 'qn': 4},\n",
              " '1031': {'amount': 700, 'name': 'Lizol', 'pr': 70, 'qn': 10},\n",
              " '1034': {'amount': 7500, 'name': 'fan', 'pr': 2500, 'qn': 3},\n",
              " '1035': {'amount': 150, 'name': 'pears', 'pr': 30, 'qn': 5},\n",
              " '1036': {'amount': 50, 'name': 'cotton', 'pr': 10, 'qn': 5},\n",
              " '1038': {'amount': 4000, 'name': 'Crocs', 'pr': 1000, 'qn': 4}}"
            ]
          },
          "metadata": {},
          "execution_count": 120
        }
      ]
    },
    {
      "cell_type": "markdown",
      "metadata": {
        "id": "9nMvvqEmaHQl"
      },
      "source": [
        "### Bar graph "
      ]
    },
    {
      "cell_type": "code",
      "metadata": {
        "id": "OAa9G3IfK7Iy"
      },
      "source": [
        "import pandas as pd"
      ],
      "execution_count": 121,
      "outputs": []
    },
    {
      "cell_type": "code",
      "metadata": {
        "colab": {
          "base_uri": "https://localhost:8080/"
        },
        "id": "5IDcCWbUK9UO",
        "outputId": "263bd15e-0355-4517-977c-c96a23d17b71"
      },
      "source": [
        "pandas_dataframe = pd.DataFrame(sale) \n",
        "print(pandas_dataframe)"
      ],
      "execution_count": 122,
      "outputs": [
        {
          "output_type": "stream",
          "name": "stdout",
          "text": [
            "        1010      1009   1035        1001  ...   1031  1034   1038    1023\n",
            "name    Oreo  Keyboard  pears  Choco Cake  ...  Lizol   fan  Crocs  Jockey\n",
            "pr        20      1999     30         100  ...     70  2500   1000    1200\n",
            "qn        15         4      5          10  ...     10     3      4       4\n",
            "amount   300      7996    150        1000  ...    700  7500   4000    4800\n",
            "\n",
            "[4 rows x 16 columns]\n"
          ]
        }
      ]
    },
    {
      "cell_type": "markdown",
      "metadata": {
        "id": "1n5sheDyLyvy"
      },
      "source": [
        "### Which product was sold the highest"
      ]
    },
    {
      "cell_type": "code",
      "metadata": {
        "colab": {
          "base_uri": "https://localhost:8080/",
          "height": 350
        },
        "id": "Sf22DcG1K_eA",
        "outputId": "726a307e-163f-4e54-faff-d70613a78259"
      },
      "source": [
        "pandas_dataframe.transpose().plot.bar(x='name',y='qn')"
      ],
      "execution_count": 123,
      "outputs": [
        {
          "output_type": "execute_result",
          "data": {
            "text/plain": [
              "<matplotlib.axes._subplots.AxesSubplot at 0x7fcc03e0b4d0>"
            ]
          },
          "metadata": {},
          "execution_count": 123
        },
        {
          "output_type": "display_data",
          "data": {
            "image/png": "[encoded data removed]",
            "text/plain": [
              "<Figure size 432x288 with 1 Axes>"
            ]
          },
          "metadata": {
            "needs_background": "light"
          }
        }
      ]
    },
    {
      "cell_type": "markdown",
      "metadata": {
        "id": "R8-t1Rt5L-Hh"
      },
      "source": [
        "###Which product made the most profit"
      ]
    },
    {
      "cell_type": "code",
      "metadata": {
        "colab": {
          "base_uri": "https://localhost:8080/",
          "height": 350
        },
        "id": "7bsnPMjDLCmx",
        "outputId": "c78aec7f-0cef-4126-d3de-66b37f80a5bf"
      },
      "source": [
        "pandas_dataframe.transpose().plot.bar(x='name',y='amount')"
      ],
      "execution_count": 124,
      "outputs": [
        {
          "output_type": "execute_result",
          "data": {
            "text/plain": [
              "<matplotlib.axes._subplots.AxesSubplot at 0x7fcc03cc0110>"
            ]
          },
          "metadata": {},
          "execution_count": 124
        },
        {
          "output_type": "display_data",
          "data": {
            "image/png": "[encoded data removed]",
            "text/plain": [
              "<Figure size 432x288 with 1 Axes>"
            ]
          },
          "metadata": {
            "needs_background": "light"
          }
        }
      ]
    },
    {
      "cell_type": "code",
      "metadata": {
        "id": "odI1j70gLEt6"
      },
      "source": [
        "jss = json.dumps(sale)\n",
        "\n",
        "fd = open(\"sales.json\",'w')\n",
        "fd.write(jss)\n",
        "fd.close()"
      ],
      "execution_count": 125,
      "outputs": []
    }
  ]
}